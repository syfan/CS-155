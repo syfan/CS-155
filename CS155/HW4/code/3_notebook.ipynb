{
 "cells": [
  {
   "cell_type": "markdown",
   "metadata": {},
   "source": [
    "# Problem 3"
   ]
  },
  {
   "cell_type": "markdown",
   "metadata": {},
   "source": [
    "Use this notebook to write your code for problem 3."
   ]
  },
  {
   "cell_type": "code",
   "execution_count": 1,
   "metadata": {
    "collapsed": true
   },
   "outputs": [],
   "source": [
    "import numpy as np\n",
    "import matplotlib.pyplot as plt\n",
    "%matplotlib inline"
   ]
  },
  {
   "cell_type": "markdown",
   "metadata": {},
   "source": [
    "## 3D - Convolutional network"
   ]
  },
  {
   "cell_type": "markdown",
   "metadata": {},
   "source": [
    "As in problem 2, we have conveniently provided for your use code that loads, preprocesses, and deals with the uglies of the MNIST data."
   ]
  },
  {
   "cell_type": "code",
   "execution_count": 2,
   "metadata": {},
   "outputs": [
    {
     "name": "stderr",
     "output_type": "stream",
     "text": [
      "Using TensorFlow backend.\n"
     ]
    }
   ],
   "source": [
    "# load MNIST data into Keras format\n",
    "import keras\n",
    "from keras.datasets import mnist\n",
    "\n",
    "(x_train, y_train), (x_test, y_test) = mnist.load_data()"
   ]
  },
  {
   "cell_type": "code",
   "execution_count": 3,
   "metadata": {},
   "outputs": [
    {
     "name": "stdout",
     "output_type": "stream",
     "text": [
      "(60000, 28, 28)\n",
      "(10000, 28, 28)\n"
     ]
    }
   ],
   "source": [
    "# look at the shapes\n",
    "print(x_train.shape)\n",
    "print(x_test.shape)"
   ]
  },
  {
   "cell_type": "code",
   "execution_count": 4,
   "metadata": {
    "collapsed": true
   },
   "outputs": [],
   "source": [
    "# we'll need to one-hot encode the labels\n",
    "y_train = keras.utils.np_utils.to_categorical(y_train)\n",
    "y_test = keras.utils.np_utils.to_categorical(y_test)"
   ]
  },
  {
   "cell_type": "code",
   "execution_count": 5,
   "metadata": {
    "collapsed": true
   },
   "outputs": [],
   "source": [
    "# don't forget to NORMALIZE\n",
    "x_train = np.divide(x_train, 255)\n",
    "x_test = np.divide(x_test, 255)"
   ]
  },
  {
   "cell_type": "code",
   "execution_count": 6,
   "metadata": {
    "collapsed": true
   },
   "outputs": [],
   "source": [
    "# we must reshape the X data (add a channel dimension)\n",
    "x_train = x_train.reshape(tuple(list(x_train.shape) + [1]))\n",
    "x_test = x_test.reshape(tuple(list(x_test.shape) + [1]))"
   ]
  },
  {
   "cell_type": "code",
   "execution_count": 7,
   "metadata": {},
   "outputs": [
    {
     "name": "stdout",
     "output_type": "stream",
     "text": [
      "(60000, 28, 28, 1)\n",
      "(10000, 28, 28, 1)\n"
     ]
    }
   ],
   "source": [
    "# look at the shapes\n",
    "print(x_train.shape)\n",
    "print(x_test.shape)"
   ]
  },
  {
   "cell_type": "code",
   "execution_count": 16,
   "metadata": {
    "collapsed": true
   },
   "outputs": [],
   "source": [
    "from keras.models import Sequential\n",
    "from keras.layers import Dense, Activation, Dropout\n",
    "from keras.layers import Conv2D, MaxPooling2D, Flatten, BatchNormalization\n",
    "from keras import regularizers\n",
    "\n",
    "# sample model\n",
    "# note: what is the difference between 'same' and 'valid' padding?\n",
    "# Take a look at the outputs to understand the difference, or read the Keras documentation!\n",
    "model = Sequential()\n",
    "model.add(Conv2D(8, (3, 3), padding='same',\n",
    "                 input_shape=(28, 28, 1)))\n",
    "model.add(Activation('relu'))\n",
    "model.add(MaxPooling2D(pool_size=(2, 2)))\n",
    "model.add(Dropout(0.10))\n",
    "\n",
    "model.add(Conv2D(8, (3, 3), padding='same'))\n",
    "model.add(Activation('relu'))\n",
    "model.add(MaxPooling2D(pool_size=(2, 2)))\n",
    "model.add(Dropout(0.10))\n",
    "\n",
    "model.add(Flatten())\n",
    "model.add(Dense(64))\n",
    "model.add(Activation('relu'))\n",
    "model.add(Dense(10))\n",
    "model.add(BatchNormalization())\n",
    "model.add(Activation('softmax'))"
   ]
  },
  {
   "cell_type": "code",
   "execution_count": 17,
   "metadata": {},
   "outputs": [
    {
     "name": "stdout",
     "output_type": "stream",
     "text": [
      "<keras.layers.convolutional.Conv2D object at 0x0000015EF72EF748>\n",
      "(None, 28, 28, 8)\n",
      "<keras.layers.core.Activation object at 0x0000015EF7210DD8>\n",
      "(None, 28, 28, 8)\n",
      "<keras.layers.pooling.MaxPooling2D object at 0x0000015EF7210A58>\n",
      "(None, 14, 14, 8)\n",
      "<keras.layers.core.Dropout object at 0x0000015EF7206EF0>\n",
      "(None, 14, 14, 8)\n",
      "<keras.layers.convolutional.Conv2D object at 0x0000015EF75C6780>\n",
      "(None, 14, 14, 8)\n",
      "<keras.layers.core.Activation object at 0x0000015EF75C60F0>\n",
      "(None, 14, 14, 8)\n",
      "<keras.layers.pooling.MaxPooling2D object at 0x0000015EF7306BE0>\n",
      "(None, 7, 7, 8)\n",
      "<keras.layers.core.Dropout object at 0x0000015EF75C64E0>\n",
      "(None, 7, 7, 8)\n",
      "<keras.layers.core.Flatten object at 0x0000015EF74B6438>\n",
      "(None, 392)\n",
      "<keras.layers.core.Dense object at 0x0000015EF74A4EB8>\n",
      "(None, 64)\n",
      "<keras.layers.core.Activation object at 0x0000015EF75D8470>\n",
      "(None, 64)\n",
      "<keras.layers.core.Dense object at 0x0000015EF72DB588>\n",
      "(None, 10)\n",
      "<keras.layers.normalization.BatchNormalization object at 0x0000015EF72DBF98>\n",
      "(None, 10)\n",
      "<keras.layers.core.Activation object at 0x0000015EF72BCC50>\n",
      "(None, 10)\n"
     ]
    }
   ],
   "source": [
    "# why don't we take a look at the layers and outputs\n",
    "# note: `None` in the first dimension means it can take any batch_size!\n",
    "for i in range(len(model.layers)):\n",
    "    layer = model.layers[i]\n",
    "    print(layer)\n",
    "    print(layer.output_shape)"
   ]
  },
  {
   "cell_type": "code",
   "execution_count": 18,
   "metadata": {},
   "outputs": [
    {
     "data": {
      "text/plain": [
       "26506"
      ]
     },
     "execution_count": 18,
     "metadata": {},
     "output_type": "execute_result"
    }
   ],
   "source": [
    "# our model has some # of parameters:\n",
    "model.count_params()"
   ]
  },
  {
   "cell_type": "code",
   "execution_count": 19,
   "metadata": {
    "collapsed": true
   },
   "outputs": [],
   "source": [
    "# For a multi-class classification problem\n",
    "model.compile(optimizer='rmsprop',\n",
    "              loss='categorical_crossentropy',\n",
    "              metrics=['accuracy'])"
   ]
  },
  {
   "cell_type": "code",
   "execution_count": 20,
   "metadata": {},
   "outputs": [
    {
     "name": "stdout",
     "output_type": "stream",
     "text": [
      "Train on 60000 samples, validate on 10000 samples\n",
      "Epoch 1/10\n",
      "60000/60000 [==============================] - 39s 648us/step - loss: 0.4127 - acc: 0.9181 - val_loss: 0.1255 - val_acc: 0.9761\n",
      "Epoch 2/10\n",
      "60000/60000 [==============================] - 36s 606us/step - loss: 0.1627 - acc: 0.9608 - val_loss: 0.0578 - val_acc: 0.9835\n",
      "Epoch 3/10\n",
      "60000/60000 [==============================] - 37s 610us/step - loss: 0.1182 - acc: 0.9701 - val_loss: 0.0542 - val_acc: 0.9857\n",
      "Epoch 4/10\n",
      "60000/60000 [==============================] - 37s 612us/step - loss: 0.0947 - acc: 0.9747 - val_loss: 0.0434 - val_acc: 0.9867\n",
      "Epoch 5/10\n",
      "60000/60000 [==============================] - 37s 613us/step - loss: 0.0853 - acc: 0.9768 - val_loss: 0.0404 - val_acc: 0.9873\n",
      "Epoch 6/10\n",
      "60000/60000 [==============================] - 37s 615us/step - loss: 0.0783 - acc: 0.9782 - val_loss: 0.0424 - val_acc: 0.9876\n",
      "Epoch 7/10\n",
      "60000/60000 [==============================] - 37s 615us/step - loss: 0.0721 - acc: 0.9797 - val_loss: 0.0361 - val_acc: 0.9885\n",
      "Epoch 8/10\n",
      "60000/60000 [==============================] - 37s 618us/step - loss: 0.0647 - acc: 0.9818 - val_loss: 0.0368 - val_acc: 0.9893\n",
      "Epoch 9/10\n",
      "60000/60000 [==============================] - 37s 618us/step - loss: 0.0628 - acc: 0.9825 - val_loss: 0.0351 - val_acc: 0.9885\n",
      "Epoch 10/10\n",
      "60000/60000 [==============================] - 37s 621us/step - loss: 0.0592 - acc: 0.9830 - val_loss: 0.0347 - val_acc: 0.9889\n"
     ]
    }
   ],
   "source": [
    "# Train the model, iterating on the data in batches of 32 samples\n",
    "history = model.fit(x_train, y_train, epochs=10, batch_size=32,\n",
    "                    validation_data=(x_test, y_test))"
   ]
  },
  {
   "cell_type": "markdown",
   "metadata": {},
   "source": [
    "Above, we output the training loss/accuracy as well as the validation (here, the TEST) loss and accuracy. To confirm that these are right, we can explicitly print out the training and test losses/accuracies."
   ]
  },
  {
   "cell_type": "code",
   "execution_count": 21,
   "metadata": {},
   "outputs": [
    {
     "data": {
      "text/plain": [
       "['loss', 'acc']"
      ]
     },
     "execution_count": 21,
     "metadata": {},
     "output_type": "execute_result"
    }
   ],
   "source": [
    "# note that our model outputs two eval params:\n",
    "# 1. loss (categorical cross-entropy)\n",
    "# 2. accuracy\n",
    "model.metrics_names"
   ]
  },
  {
   "cell_type": "code",
   "execution_count": 22,
   "metadata": {
    "scrolled": true
   },
   "outputs": [
    {
     "name": "stdout",
     "output_type": "stream",
     "text": [
      "60000/60000 [==============================] - 15s 246us/step\n"
     ]
    },
    {
     "data": {
      "text/plain": [
       "[0.025796938360032315, 0.99231666666666662]"
      ]
     },
     "execution_count": 22,
     "metadata": {},
     "output_type": "execute_result"
    }
   ],
   "source": [
    "model.evaluate(x=x_train, y=y_train)"
   ]
  },
  {
   "cell_type": "code",
   "execution_count": 23,
   "metadata": {},
   "outputs": [
    {
     "name": "stdout",
     "output_type": "stream",
     "text": [
      "10000/10000 [==============================] - 2s 249us/step\n"
     ]
    },
    {
     "data": {
      "text/plain": [
       "[0.034721569664590057, 0.9889]"
      ]
     },
     "execution_count": 23,
     "metadata": {},
     "output_type": "execute_result"
    }
   ],
   "source": [
    "model.evaluate(x=x_test, y=y_test)"
   ]
  },
  {
   "cell_type": "code",
   "execution_count": 26,
   "metadata": {},
   "outputs": [
    {
     "name": "stdout",
     "output_type": "stream",
     "text": [
      "Drop probability: 0.0\n",
      "Train on 60000 samples, validate on 10000 samples\n",
      "Epoch 1/1\n",
      "60000/60000 [==============================] - 34s 561us/step - loss: 0.3530 - acc: 0.9398 - val_loss: 0.0964 - val_acc: 0.9806\n",
      "Drop probability: 0.111111111111\n",
      "Train on 60000 samples, validate on 10000 samples\n",
      "Epoch 1/1\n",
      "60000/60000 [==============================] - 37s 617us/step - loss: 0.4269 - acc: 0.9136 - val_loss: 0.1138 - val_acc: 0.9789\n",
      "Drop probability: 0.222222222222\n",
      "Train on 60000 samples, validate on 10000 samples\n",
      "Epoch 1/1\n",
      "60000/60000 [==============================] - 38s 635us/step - loss: 0.4960 - acc: 0.8892 - val_loss: 0.1408 - val_acc: 0.9736\n",
      "Drop probability: 0.333333333333\n",
      "Train on 60000 samples, validate on 10000 samples\n",
      "Epoch 1/1\n",
      "60000/60000 [==============================] - 39s 645us/step - loss: 0.5795 - acc: 0.8581 - val_loss: 0.1494 - val_acc: 0.9737\n",
      "Drop probability: 0.444444444444\n",
      "Train on 60000 samples, validate on 10000 samples\n",
      "Epoch 1/1\n",
      "60000/60000 [==============================] - 38s 628us/step - loss: 0.6920 - acc: 0.8165 - val_loss: 0.2075 - val_acc: 0.9629\n",
      "Drop probability: 0.555555555556\n",
      "Train on 60000 samples, validate on 10000 samples\n",
      "Epoch 1/1\n",
      "60000/60000 [==============================] - 39s 650us/step - loss: 0.8367 - acc: 0.7641 - val_loss: 0.2804 - val_acc: 0.9560\n",
      "Drop probability: 0.666666666667\n",
      "Train on 60000 samples, validate on 10000 samples\n",
      "Epoch 1/1\n",
      "60000/60000 [==============================] - 40s 661us/step - loss: 1.0325 - acc: 0.6874 - val_loss: 0.4285 - val_acc: 0.9319\n",
      "Drop probability: 0.777777777778\n",
      "Train on 60000 samples, validate on 10000 samples\n",
      "Epoch 1/1\n",
      "60000/60000 [==============================] - 39s 657us/step - loss: 1.3248 - acc: 0.5754 - val_loss: 0.7105 - val_acc: 0.8673\n",
      "Drop probability: 0.888888888889\n",
      "Train on 60000 samples, validate on 10000 samples\n",
      "Epoch 1/1\n",
      "60000/60000 [==============================] - 40s 663us/step - loss: 1.7492 - acc: 0.4021 - val_loss: 1.3899 - val_acc: 0.6092\n",
      "Drop probability: 1.0\n",
      "Train on 60000 samples, validate on 10000 samples\n",
      "Epoch 1/1\n",
      "60000/60000 [==============================] - 37s 608us/step - loss: 0.3545 - acc: 0.9389 - val_loss: 0.0942 - val_acc: 0.9813\n"
     ]
    }
   ],
   "source": [
    "new_drops = np.linspace(0, 1, 10)\n",
    "for drop in new_drops:\n",
    "    model = Sequential()\n",
    "    model.add(Conv2D(8, (3, 3), padding='same',\n",
    "                     input_shape=(28, 28, 1)))\n",
    "    model.add(Activation('relu'))\n",
    "    model.add(MaxPooling2D(pool_size=(2, 2)))\n",
    "    model.add(Dropout(drop))\n",
    "\n",
    "    model.add(Conv2D(8, (3, 3), padding='same'))\n",
    "    model.add(Activation('relu'))\n",
    "    model.add(MaxPooling2D(pool_size=(2, 2)))\n",
    "    model.add(Dropout(drop))\n",
    "\n",
    "    model.add(Flatten())\n",
    "    model.add(Dense(64))\n",
    "    model.add(Activation('relu'))\n",
    "    model.add(Dense(10))\n",
    "    model.add(BatchNormalization())\n",
    "    model.add(Activation('softmax'))\n",
    "    \n",
    "    # For a multi-class classification problem\n",
    "    model.compile(optimizer='rmsprop',\n",
    "              loss='categorical_crossentropy',\n",
    "              metrics=['accuracy'])\n",
    "    print(\"Drop probability: \" + str(drop))\n",
    "    history = model.fit(x_train, y_train, epochs=1, batch_size=32,\n",
    "                        validation_data=(x_test, y_test))"
   ]
  },
  {
   "cell_type": "markdown",
   "metadata": {},
   "source": [
    "Not bad! Let's see if you can do better."
   ]
  }
 ],
 "metadata": {
  "kernelspec": {
   "display_name": "Python 3",
   "language": "python",
   "name": "python3"
  },
  "language_info": {
   "codemirror_mode": {
    "name": "ipython",
    "version": 3
   },
   "file_extension": ".py",
   "mimetype": "text/x-python",
   "name": "python",
   "nbconvert_exporter": "python",
   "pygments_lexer": "ipython3",
   "version": "3.6.2"
  }
 },
 "nbformat": 4,
 "nbformat_minor": 1
}
