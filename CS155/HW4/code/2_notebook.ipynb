{
 "cells": [
  {
   "cell_type": "markdown",
   "metadata": {},
   "source": [
    "# Problem 2"
   ]
  },
  {
   "cell_type": "markdown",
   "metadata": {},
   "source": [
    "Use this notebook to write your code for problem 3."
   ]
  },
  {
   "cell_type": "code",
   "execution_count": 1,
   "metadata": {
    "collapsed": true
   },
   "outputs": [],
   "source": [
    "import numpy as np\n",
    "import matplotlib.pyplot as plt\n",
    "%matplotlib inline"
   ]
  },
  {
   "cell_type": "code",
   "execution_count": 2,
   "metadata": {},
   "outputs": [
    {
     "name": "stderr",
     "output_type": "stream",
     "text": [
      "Using TensorFlow backend.\n"
     ]
    }
   ],
   "source": [
    "# load MNIST data into Keras format\n",
    "import keras\n",
    "from keras.datasets import mnist\n",
    "\n",
    "(x_train, y_train), (x_test, y_test) = mnist.load_data()"
   ]
  },
  {
   "cell_type": "code",
   "execution_count": 3,
   "metadata": {},
   "outputs": [
    {
     "name": "stdout",
     "output_type": "stream",
     "text": [
      "(60000, 28, 28)\n",
      "(10000, 28, 28)\n"
     ]
    }
   ],
   "source": [
    "# look at the shapes\n",
    "print(x_train.shape)\n",
    "print(x_test.shape)"
   ]
  },
  {
   "cell_type": "code",
   "execution_count": 4,
   "metadata": {
    "collapsed": true
   },
   "outputs": [],
   "source": [
    "# we'll need to one-hot encode the labels\n",
    "y_train = keras.utils.np_utils.to_categorical(y_train)\n",
    "y_test = keras.utils.np_utils.to_categorical(y_test)"
   ]
  },
  {
   "cell_type": "code",
   "execution_count": 5,
   "metadata": {
    "collapsed": true
   },
   "outputs": [],
   "source": [
    "# don't forget to NORMALIZE\n",
    "x_train = np.divide(x_train, 255)\n",
    "x_test = np.divide(x_test, 255)"
   ]
  },
  {
   "cell_type": "code",
   "execution_count": 15,
   "metadata": {},
   "outputs": [],
   "source": [
    "# we must reshape the X data (add a channel dimension)\n",
    "x_train = np.reshape(x_train, (60000, 28 * 28))\n",
    "x_test = np.reshape(x_test, (10000, 28 * 28))"
   ]
  },
  {
   "cell_type": "code",
   "execution_count": null,
   "metadata": {},
   "outputs": [],
   "source": [
    "# look at the shapes\n",
    "print(x_train.shape)\n",
    "print(x_test.shape)"
   ]
  },
  {
   "cell_type": "markdown",
   "metadata": {},
   "source": [
    "Problem C"
   ]
  },
  {
   "cell_type": "code",
   "execution_count": 51,
   "metadata": {},
   "outputs": [],
   "source": [
    "from keras.models import Sequential\n",
    "from keras.layers import Dense, Activation, Dropout\n",
    "from keras.layers import Conv2D, MaxPooling2D, Flatten, BatchNormalization\n",
    "from keras import regularizers\n",
    "\n",
    "# note: what is the difference between 'same' and 'valid' padding?\n",
    "# Take a look at the outputs to understand the difference, or read the Keras documentation!\n",
    "model = Sequential()\n",
    "\n",
    "model.add(Dense(75, input_dim=28*28))\n",
    "model.add(Activation('relu'))\n",
    "model.add(Dropout(0.07))\n",
    "model.add(Dense(25))\n",
    "model.add(Activation('relu'))\n",
    "model.add(Dense(10))\n",
    "model.add(Activation('softmax'))"
   ]
  },
  {
   "cell_type": "code",
   "execution_count": 52,
   "metadata": {
    "scrolled": true
   },
   "outputs": [
    {
     "name": "stdout",
     "output_type": "stream",
     "text": [
      "<keras.layers.core.Dense object at 0x000001542BCA83C8>\n",
      "(None, 75)\n",
      "<keras.layers.core.Activation object at 0x000001542BCA80B8>\n",
      "(None, 75)\n",
      "<keras.layers.core.Dropout object at 0x000001542BCA8438>\n",
      "(None, 75)\n",
      "<keras.layers.core.Dense object at 0x000001542BCA8470>\n",
      "(None, 25)\n",
      "<keras.layers.core.Activation object at 0x000001542BCA8320>\n",
      "(None, 25)\n",
      "<keras.layers.core.Dense object at 0x000001542BC814E0>\n",
      "(None, 10)\n",
      "<keras.layers.core.Activation object at 0x0000015429BBB1D0>\n",
      "(None, 10)\n"
     ]
    }
   ],
   "source": [
    "# why don't we take a look at the layers and outputs\n",
    "# note: `None` in the first dimension means it can take any batch_size!\n",
    "for i in range(len(model.layers)):\n",
    "    layer = model.layers[i]\n",
    "    print(layer)\n",
    "    print(layer.output_shape)"
   ]
  },
  {
   "cell_type": "code",
   "execution_count": 53,
   "metadata": {
    "collapsed": true
   },
   "outputs": [],
   "source": [
    "# For a multi-class classification problem\n",
    "model.compile(optimizer='rmsprop',\n",
    "              loss='categorical_crossentropy',\n",
    "              metrics=['accuracy'])"
   ]
  },
  {
   "cell_type": "code",
   "execution_count": 54,
   "metadata": {
    "scrolled": true
   },
   "outputs": [
    {
     "name": "stdout",
     "output_type": "stream",
     "text": [
      "Train on 60000 samples, validate on 10000 samples\n",
      "Epoch 1/10\n",
      "60000/60000 [==============================] - 6s 102us/step - loss: 0.3126 - acc: 0.9093 - val_loss: 0.1535 - val_acc: 0.9547\n",
      "Epoch 2/10\n",
      "60000/60000 [==============================] - 6s 94us/step - loss: 0.1553 - acc: 0.9550 - val_loss: 0.1226 - val_acc: 0.9626\n",
      "Epoch 3/10\n",
      "60000/60000 [==============================] - 6s 94us/step - loss: 0.1223 - acc: 0.9641 - val_loss: 0.1118 - val_acc: 0.9672\n",
      "Epoch 4/10\n",
      "60000/60000 [==============================] - 6s 95us/step - loss: 0.1063 - acc: 0.9695 - val_loss: 0.0965 - val_acc: 0.9719\n",
      "Epoch 5/10\n",
      "60000/60000 [==============================] - 6s 95us/step - loss: 0.0922 - acc: 0.9732 - val_loss: 0.0967 - val_acc: 0.9734\n",
      "Epoch 6/10\n",
      "60000/60000 [==============================] - 6s 96us/step - loss: 0.0877 - acc: 0.9748 - val_loss: 0.0976 - val_acc: 0.9734\n",
      "Epoch 7/10\n",
      "60000/60000 [==============================] - 6s 95us/step - loss: 0.0819 - acc: 0.9769 - val_loss: 0.0987 - val_acc: 0.9736\n",
      "Epoch 8/10\n",
      "60000/60000 [==============================] - 6s 96us/step - loss: 0.0765 - acc: 0.9781 - val_loss: 0.1041 - val_acc: 0.9742\n",
      "Epoch 9/10\n",
      "60000/60000 [==============================] - 6s 96us/step - loss: 0.0724 - acc: 0.9798 - val_loss: 0.0988 - val_acc: 0.9748\n",
      "Epoch 10/10\n",
      "60000/60000 [==============================] - 6s 96us/step - loss: 0.0693 - acc: 0.9809 - val_loss: 0.1032 - val_acc: 0.9763\n"
     ]
    }
   ],
   "source": [
    "# Train the model, iterating on the data in batches of 32 samples\n",
    "history = model.fit(x_train, y_train, epochs=10, batch_size=32,\n",
    "                    validation_data=(x_test, y_test))"
   ]
  },
  {
   "cell_type": "markdown",
   "metadata": {},
   "source": [
    "Above, we output the training loss/accuracy as well as the validation (here, the TEST) loss and accuracy. To confirm that these are right, we can explicitly print out the training and test losses/accuracies."
   ]
  },
  {
   "cell_type": "code",
   "execution_count": 55,
   "metadata": {
    "scrolled": true
   },
   "outputs": [
    {
     "name": "stdout",
     "output_type": "stream",
     "text": [
      "60000/60000 [==============================] - 3s 42us/step\n"
     ]
    },
    {
     "data": {
      "text/plain": [
       "[0.039271430714349846, 0.98948333333333338]"
      ]
     },
     "execution_count": 55,
     "metadata": {},
     "output_type": "execute_result"
    }
   ],
   "source": [
    "model.evaluate(x=x_train, y=y_train)"
   ]
  },
  {
   "cell_type": "code",
   "execution_count": 56,
   "metadata": {},
   "outputs": [
    {
     "name": "stdout",
     "output_type": "stream",
     "text": [
      "10000/10000 [==============================] - 0s 45us/step\n"
     ]
    },
    {
     "data": {
      "text/plain": [
       "[0.10320152910447068, 0.97629999999999995]"
      ]
     },
     "execution_count": 56,
     "metadata": {},
     "output_type": "execute_result"
    }
   ],
   "source": [
    "model.evaluate(x=x_test, y=y_test)"
   ]
  },
  {
   "cell_type": "markdown",
   "metadata": {},
   "source": [
    "Problem D"
   ]
  },
  {
   "cell_type": "code",
   "execution_count": 109,
   "metadata": {
    "collapsed": true
   },
   "outputs": [],
   "source": [
    "# note: what is the difference between 'same' and 'valid' padding?\n",
    "# Take a look at the outputs to understand the difference, or read the Keras documentation!\n",
    "model = Sequential()\n",
    "\n",
    "model.add(Dense(150, input_dim=28*28))\n",
    "model.add(Activation('relu'))\n",
    "model.add(Dropout(0.08))\n",
    "model.add(Dense(50))\n",
    "model.add(Activation('relu'))\n",
    "model.add(Dense(10))\n",
    "model.add(Activation('softmax'))"
   ]
  },
  {
   "cell_type": "code",
   "execution_count": 110,
   "metadata": {
    "scrolled": true
   },
   "outputs": [
    {
     "name": "stdout",
     "output_type": "stream",
     "text": [
      "<keras.layers.core.Dense object at 0x000001545031DAC8>\n",
      "(None, 150)\n",
      "<keras.layers.core.Activation object at 0x000001545031D668>\n",
      "(None, 150)\n",
      "<keras.layers.core.Dropout object at 0x00000154505414A8>\n",
      "(None, 150)\n",
      "<keras.layers.core.Dense object at 0x000001545031DA90>\n",
      "(None, 50)\n",
      "<keras.layers.core.Activation object at 0x0000015450541A58>\n",
      "(None, 50)\n",
      "<keras.layers.core.Dense object at 0x000001545054EB70>\n",
      "(None, 10)\n",
      "<keras.layers.core.Activation object at 0x000001545054EEF0>\n",
      "(None, 10)\n"
     ]
    }
   ],
   "source": [
    "# why don't we take a look at the layers and outputs\n",
    "# note: `None` in the first dimension means it can take any batch_size!\n",
    "for i in range(len(model.layers)):\n",
    "    layer = model.layers[i]\n",
    "    print(layer)\n",
    "    print(layer.output_shape)"
   ]
  },
  {
   "cell_type": "code",
   "execution_count": 111,
   "metadata": {
    "collapsed": true
   },
   "outputs": [],
   "source": [
    "# For a multi-class classification problem\n",
    "model.compile(optimizer='rmsprop',\n",
    "              loss='categorical_crossentropy',\n",
    "              metrics=['accuracy'])"
   ]
  },
  {
   "cell_type": "code",
   "execution_count": 112,
   "metadata": {
    "scrolled": true
   },
   "outputs": [
    {
     "name": "stdout",
     "output_type": "stream",
     "text": [
      "Train on 60000 samples, validate on 10000 samples\n",
      "Epoch 1/20\n",
      "60000/60000 [==============================] - 4s 74us/step - loss: 0.3261 - acc: 0.9054 - val_loss: 0.1508 - val_acc: 0.9564\n",
      "Epoch 2/20\n",
      "60000/60000 [==============================] - 4s 61us/step - loss: 0.1411 - acc: 0.9580 - val_loss: 0.1185 - val_acc: 0.9649\n",
      "Epoch 3/20\n",
      "60000/60000 [==============================] - 4s 61us/step - loss: 0.1025 - acc: 0.9691 - val_loss: 0.0918 - val_acc: 0.9705\n",
      "Epoch 4/20\n",
      "60000/60000 [==============================] - 4s 62us/step - loss: 0.0808 - acc: 0.9757 - val_loss: 0.0821 - val_acc: 0.9750\n",
      "Epoch 5/20\n",
      "60000/60000 [==============================] - 4s 61us/step - loss: 0.0667 - acc: 0.9791 - val_loss: 0.0803 - val_acc: 0.9759\n",
      "Epoch 6/20\n",
      "60000/60000 [==============================] - 4s 63us/step - loss: 0.0557 - acc: 0.9827 - val_loss: 0.0758 - val_acc: 0.9770\n",
      "Epoch 7/20\n",
      "60000/60000 [==============================] - 4s 66us/step - loss: 0.0492 - acc: 0.9845 - val_loss: 0.0742 - val_acc: 0.9791\n",
      "Epoch 8/20\n",
      "60000/60000 [==============================] - 4s 63us/step - loss: 0.0435 - acc: 0.9863 - val_loss: 0.0697 - val_acc: 0.9797\n",
      "Epoch 9/20\n",
      "60000/60000 [==============================] - 4s 65us/step - loss: 0.0376 - acc: 0.9884 - val_loss: 0.0853 - val_acc: 0.9755\n",
      "Epoch 10/20\n",
      "60000/60000 [==============================] - 4s 64us/step - loss: 0.0333 - acc: 0.9892 - val_loss: 0.0766 - val_acc: 0.9792\n",
      "Epoch 11/20\n",
      "60000/60000 [==============================] - 4s 64us/step - loss: 0.0309 - acc: 0.9901 - val_loss: 0.0821 - val_acc: 0.9777\n",
      "Epoch 12/20\n",
      "60000/60000 [==============================] - 4s 64us/step - loss: 0.0278 - acc: 0.9912 - val_loss: 0.0776 - val_acc: 0.9797\n",
      "Epoch 13/20\n",
      "60000/60000 [==============================] - 4s 64us/step - loss: 0.0250 - acc: 0.9918 - val_loss: 0.0774 - val_acc: 0.9797\n",
      "Epoch 14/20\n",
      "60000/60000 [==============================] - 4s 64us/step - loss: 0.0222 - acc: 0.9927 - val_loss: 0.0795 - val_acc: 0.9804\n",
      "Epoch 15/20\n",
      "60000/60000 [==============================] - 4s 64us/step - loss: 0.0206 - acc: 0.9933 - val_loss: 0.0775 - val_acc: 0.9813\n",
      "Epoch 16/20\n",
      "60000/60000 [==============================] - 4s 64us/step - loss: 0.0194 - acc: 0.9936 - val_loss: 0.0898 - val_acc: 0.9804\n",
      "Epoch 17/20\n",
      "60000/60000 [==============================] - 4s 64us/step - loss: 0.0178 - acc: 0.9938 - val_loss: 0.0870 - val_acc: 0.9813\n",
      "Epoch 18/20\n",
      "60000/60000 [==============================] - 4s 64us/step - loss: 0.0179 - acc: 0.9939 - val_loss: 0.0829 - val_acc: 0.9801\n",
      "Epoch 19/20\n",
      "60000/60000 [==============================] - 4s 65us/step - loss: 0.0160 - acc: 0.9948 - val_loss: 0.0847 - val_acc: 0.9801\n",
      "Epoch 20/20\n",
      "60000/60000 [==============================] - 4s 66us/step - loss: 0.0147 - acc: 0.9953 - val_loss: 0.0915 - val_acc: 0.9820\n"
     ]
    }
   ],
   "source": [
    "# Train the model, iterating on the data in batches of 64 samples\n",
    "history = model.fit(x_train, y_train, epochs=20, batch_size=128,\n",
    "                    validation_data=(x_test, y_test))"
   ]
  },
  {
   "cell_type": "markdown",
   "metadata": {},
   "source": [
    "Above, we output the training loss/accuracy as well as the validation (here, the TEST) loss and accuracy. To confirm that these are right, we can explicitly print out the training and test losses/accuracies."
   ]
  },
  {
   "cell_type": "code",
   "execution_count": 113,
   "metadata": {
    "scrolled": true
   },
   "outputs": [
    {
     "name": "stdout",
     "output_type": "stream",
     "text": [
      "60000/60000 [==============================] - 3s 49us/step\n"
     ]
    },
    {
     "data": {
      "text/plain": [
       "[0.0045229791703667917, 0.99883333333333335]"
      ]
     },
     "execution_count": 113,
     "metadata": {},
     "output_type": "execute_result"
    }
   ],
   "source": [
    "model.evaluate(x=x_train, y=y_train)"
   ]
  },
  {
   "cell_type": "code",
   "execution_count": 114,
   "metadata": {},
   "outputs": [
    {
     "name": "stdout",
     "output_type": "stream",
     "text": [
      "10000/10000 [==============================] - 1s 51us/step\n"
     ]
    },
    {
     "data": {
      "text/plain": [
       "[0.091468558656332521, 0.98199999999999998]"
      ]
     },
     "execution_count": 114,
     "metadata": {},
     "output_type": "execute_result"
    }
   ],
   "source": [
    "model.evaluate(x=x_test, y=y_test)"
   ]
  },
  {
   "cell_type": "markdown",
   "metadata": {},
   "source": [
    "Problem E"
   ]
  },
  {
   "cell_type": "code",
   "execution_count": 115,
   "metadata": {
    "collapsed": true
   },
   "outputs": [],
   "source": [
    "# note: what is the difference between 'same' and 'valid' padding?\n",
    "# Take a look at the outputs to understand the difference, or read the Keras documentation!\n",
    "model = Sequential()\n",
    "\n",
    "model.add(Dense(600, input_dim=28*28))\n",
    "model.add(Activation('relu'))\n",
    "model.add(Dropout(0.08))\n",
    "model.add(Dense(200))\n",
    "model.add(Activation('relu'))\n",
    "model.add(Dense(150))\n",
    "model.add(Activation('relu'))\n",
    "model.add(Dense(50))\n",
    "model.add(Activation('relu'))\n",
    "model.add(Dense(10))\n",
    "model.add(Activation('softmax'))"
   ]
  },
  {
   "cell_type": "code",
   "execution_count": 116,
   "metadata": {
    "scrolled": true
   },
   "outputs": [
    {
     "name": "stdout",
     "output_type": "stream",
     "text": [
      "<keras.layers.core.Dense object at 0x0000015450B669E8>\n",
      "(None, 600)\n",
      "<keras.layers.core.Activation object at 0x0000015450961278>\n",
      "(None, 600)\n",
      "<keras.layers.core.Dropout object at 0x00000154509614E0>\n",
      "(None, 600)\n",
      "<keras.layers.core.Dense object at 0x0000015450961320>\n",
      "(None, 200)\n",
      "<keras.layers.core.Activation object at 0x0000015450961BE0>\n",
      "(None, 200)\n",
      "<keras.layers.core.Dense object at 0x00000154509758D0>\n",
      "(None, 150)\n",
      "<keras.layers.core.Activation object at 0x00000154509754A8>\n",
      "(None, 150)\n",
      "<keras.layers.core.Dense object at 0x0000015450B5EF28>\n",
      "(None, 50)\n",
      "<keras.layers.core.Activation object at 0x0000015450B5E6A0>\n",
      "(None, 50)\n",
      "<keras.layers.core.Dense object at 0x0000015450A5DC50>\n",
      "(None, 10)\n",
      "<keras.layers.core.Activation object at 0x0000015450A5DCF8>\n",
      "(None, 10)\n"
     ]
    }
   ],
   "source": [
    "# why don't we take a look at the layers and outputs\n",
    "# note: `None` in the first dimension means it can take any batch_size!\n",
    "for i in range(len(model.layers)):\n",
    "    layer = model.layers[i]\n",
    "    print(layer)\n",
    "    print(layer.output_shape)"
   ]
  },
  {
   "cell_type": "code",
   "execution_count": 117,
   "metadata": {
    "collapsed": true
   },
   "outputs": [],
   "source": [
    "# For a multi-class classification problem\n",
    "model.compile(optimizer='rmsprop',\n",
    "              loss='categorical_crossentropy',\n",
    "              metrics=['accuracy'])"
   ]
  },
  {
   "cell_type": "code",
   "execution_count": 118,
   "metadata": {
    "scrolled": false
   },
   "outputs": [
    {
     "name": "stdout",
     "output_type": "stream",
     "text": [
      "Train on 60000 samples, validate on 10000 samples\n",
      "Epoch 1/25\n",
      "60000/60000 [==============================] - 13s 213us/step - loss: 0.2672 - acc: 0.9177 - val_loss: 0.1345 - val_acc: 0.9585\n",
      "Epoch 2/25\n",
      "60000/60000 [==============================] - 12s 208us/step - loss: 0.0996 - acc: 0.9701 - val_loss: 0.1610 - val_acc: 0.9534\n",
      "Epoch 3/25\n",
      "60000/60000 [==============================] - 12s 206us/step - loss: 0.0714 - acc: 0.9783 - val_loss: 0.0721 - val_acc: 0.9788\n",
      "Epoch 4/25\n",
      "60000/60000 [==============================] - 13s 211us/step - loss: 0.0536 - acc: 0.9840 - val_loss: 0.0698 - val_acc: 0.9808\n",
      "Epoch 5/25\n",
      "60000/60000 [==============================] - 13s 215us/step - loss: 0.0441 - acc: 0.9871 - val_loss: 0.0793 - val_acc: 0.9775\n",
      "Epoch 6/25\n",
      "60000/60000 [==============================] - 13s 211us/step - loss: 0.0363 - acc: 0.9887 - val_loss: 0.0875 - val_acc: 0.9775\n",
      "Epoch 7/25\n",
      "60000/60000 [==============================] - 13s 209us/step - loss: 0.0314 - acc: 0.9903 - val_loss: 0.0796 - val_acc: 0.9808\n",
      "Epoch 8/25\n",
      "60000/60000 [==============================] - 13s 212us/step - loss: 0.0282 - acc: 0.9919 - val_loss: 0.0782 - val_acc: 0.9821\n",
      "Epoch 9/25\n",
      "60000/60000 [==============================] - 13s 213us/step - loss: 0.0245 - acc: 0.9927 - val_loss: 0.0760 - val_acc: 0.9840\n",
      "Epoch 10/25\n",
      "60000/60000 [==============================] - 13s 210us/step - loss: 0.0203 - acc: 0.9940 - val_loss: 0.0928 - val_acc: 0.9831\n",
      "Epoch 11/25\n",
      "60000/60000 [==============================] - 13s 211us/step - loss: 0.0204 - acc: 0.9943 - val_loss: 0.0922 - val_acc: 0.9819\n",
      "Epoch 12/25\n",
      "60000/60000 [==============================] - 13s 211us/step - loss: 0.0194 - acc: 0.9946 - val_loss: 0.1040 - val_acc: 0.9805\n",
      "Epoch 13/25\n",
      "60000/60000 [==============================] - 13s 213us/step - loss: 0.0178 - acc: 0.9953 - val_loss: 0.1210 - val_acc: 0.9792\n",
      "Epoch 14/25\n",
      "60000/60000 [==============================] - 13s 213us/step - loss: 0.0162 - acc: 0.9954 - val_loss: 0.1342 - val_acc: 0.9766\n",
      "Epoch 15/25\n",
      "60000/60000 [==============================] - 13s 215us/step - loss: 0.0153 - acc: 0.9959 - val_loss: 0.1099 - val_acc: 0.9835\n",
      "Epoch 16/25\n",
      "60000/60000 [==============================] - 13s 214us/step - loss: 0.0156 - acc: 0.9963 - val_loss: 0.1012 - val_acc: 0.9827\n",
      "Epoch 17/25\n",
      "60000/60000 [==============================] - 13s 215us/step - loss: 0.0143 - acc: 0.9963 - val_loss: 0.1132 - val_acc: 0.9819\n",
      "Epoch 18/25\n",
      "60000/60000 [==============================] - 13s 215us/step - loss: 0.0145 - acc: 0.9965 - val_loss: 0.1158 - val_acc: 0.9829\n",
      "Epoch 19/25\n",
      "60000/60000 [==============================] - 13s 214us/step - loss: 0.0124 - acc: 0.9968 - val_loss: 0.1232 - val_acc: 0.9825\n",
      "Epoch 20/25\n",
      "60000/60000 [==============================] - 13s 215us/step - loss: 0.0123 - acc: 0.9970 - val_loss: 0.1186 - val_acc: 0.9825\n",
      "Epoch 21/25\n",
      "60000/60000 [==============================] - 13s 213us/step - loss: 0.0143 - acc: 0.9965 - val_loss: 0.1197 - val_acc: 0.9809\n",
      "Epoch 22/25\n",
      "60000/60000 [==============================] - 13s 213us/step - loss: 0.0120 - acc: 0.9970 - val_loss: 0.1353 - val_acc: 0.9824\n",
      "Epoch 23/25\n",
      "60000/60000 [==============================] - 13s 215us/step - loss: 0.0128 - acc: 0.9972 - val_loss: 0.1416 - val_acc: 0.9816\n",
      "Epoch 24/25\n",
      "60000/60000 [==============================] - 13s 219us/step - loss: 0.0141 - acc: 0.9970 - val_loss: 0.1319 - val_acc: 0.9821\n",
      "Epoch 25/25\n",
      "60000/60000 [==============================] - 13s 214us/step - loss: 0.0117 - acc: 0.9973 - val_loss: 0.1211 - val_acc: 0.9835\n"
     ]
    }
   ],
   "source": [
    "# Train the model, iterating on the data in batches of 64 samples\n",
    "history = model.fit(x_train, y_train, epochs=25, batch_size=128,\n",
    "                    validation_data=(x_test, y_test))"
   ]
  },
  {
   "cell_type": "markdown",
   "metadata": {},
   "source": [
    "Above, we output the training loss/accuracy as well as the validation (here, the TEST) loss and accuracy. To confirm that these are right, we can explicitly print out the training and test losses/accuracies."
   ]
  },
  {
   "cell_type": "code",
   "execution_count": 119,
   "metadata": {
    "scrolled": true
   },
   "outputs": [
    {
     "name": "stdout",
     "output_type": "stream",
     "text": [
      "60000/60000 [==============================] - 7s 113us/step\n"
     ]
    },
    {
     "data": {
      "text/plain": [
       "[0.0041675427334230035, 0.99898333333333333]"
      ]
     },
     "execution_count": 119,
     "metadata": {},
     "output_type": "execute_result"
    }
   ],
   "source": [
    "model.evaluate(x=x_train, y=y_train)"
   ]
  },
  {
   "cell_type": "code",
   "execution_count": 120,
   "metadata": {},
   "outputs": [
    {
     "name": "stdout",
     "output_type": "stream",
     "text": [
      "10000/10000 [==============================] - 1s 116us/step\n"
     ]
    },
    {
     "data": {
      "text/plain": [
       "[0.12110629816663186, 0.98350000000000004]"
      ]
     },
     "execution_count": 120,
     "metadata": {},
     "output_type": "execute_result"
    }
   ],
   "source": [
    "model.evaluate(x=x_test, y=y_test)"
   ]
  },
  {
   "cell_type": "code",
   "execution_count": null,
   "metadata": {
    "collapsed": true
   },
   "outputs": [],
   "source": []
  }
 ],
 "metadata": {
  "kernelspec": {
   "display_name": "Python 3",
   "language": "python",
   "name": "python3"
  },
  "language_info": {
   "codemirror_mode": {
    "name": "ipython",
    "version": 3
   },
   "file_extension": ".py",
   "mimetype": "text/x-python",
   "name": "python",
   "nbconvert_exporter": "python",
   "pygments_lexer": "ipython3",
   "version": "3.6.2"
  }
 },
 "nbformat": 4,
 "nbformat_minor": 1
}
