{
 "cells": [
  {
   "cell_type": "markdown",
   "metadata": {},
   "source": [
    "# Problem 4, Parts F-H: Stochastic Gradient Descent with a Larger Dataset"
   ]
  },
  {
   "cell_type": "markdown",
   "metadata": {},
   "source": [
    "Use this notebook to write your code for problem 4 parts F-H by filling in the sections marked `# TODO` and running all cells."
   ]
  },
  {
   "cell_type": "code",
   "execution_count": 4,
   "metadata": {
    "collapsed": true
   },
   "outputs": [],
   "source": [
    "# Setup.\n",
    "\n",
    "import numpy as np\n",
    "import matplotlib.pyplot as plt\n",
    "\n",
    "%matplotlib inline"
   ]
  },
  {
   "cell_type": "markdown",
   "metadata": {},
   "source": [
    "## Problem 4F: Perform SGD with the new dataset"
   ]
  },
  {
   "cell_type": "markdown",
   "metadata": {},
   "source": [
    "For the functions below, you may re-use your code from parts 4C-E. Note that you can now modify your SGD function to return the final weight vector instead of the weights after every epoch."
   ]
  },
  {
   "cell_type": "code",
   "execution_count": 5,
   "metadata": {
    "collapsed": true
   },
   "outputs": [],
   "source": [
    "def loss(X, Y, w):\n",
    "    '''\n",
    "    Calculate the squared loss function.\n",
    "    \n",
    "    Inputs:\n",
    "        X: A (N, D) shaped numpy array containing the data points.\n",
    "        Y: A (N, ) shaped numpy array containing the (float) labels of the data points.\n",
    "        w: A (D, ) shaped numpy array containing the weight vector.\n",
    "    \n",
    "    Outputs:\n",
    "        The loss evaluated with respect to X, Y, and w.\n",
    "    '''\n",
    "    \n",
    "    total = 0.0\n",
    "    for i in range(0, len(X)):\n",
    "        total += (Y[i] - np.dot(w,X[i]))**2\n",
    "    return total    \n",
    "\n",
    "def gradient(x, y, w):\n",
    "    '''\n",
    "    Calculate the gradient of the loss function with respect to\n",
    "    a single point (x, y), and using weight vector w.\n",
    "    \n",
    "    Inputs:\n",
    "        x: A (D, ) shaped numpy array containing a single data point.\n",
    "        y: The float label for the data point.\n",
    "        w: A (D, ) shaped numpy array containing the weight vector.\n",
    "        \n",
    "    Output:\n",
    "        The gradient of the loss with respect to x, y, and w. \n",
    "    '''\n",
    "    \n",
    "    return -2 * (y - np.dot(w, x)) * x\n",
    "\n",
    "def SGD(X, Y, w_start, eta, N_epochs):\n",
    "    '''\n",
    "    Perform SGD using dataset (X, Y), initial weight vector w_start,\n",
    "    learning rate eta, and N_epochs epochs.\n",
    "    \n",
    "    Inputs:\n",
    "        X: A (N, D) shaped numpy array containing the data points.\n",
    "        Y: A (N, ) shaped numpy array containing the (float) labels of the data points.\n",
    "        w_start:  A (D, ) shaped numpy array containing the weight vector initialization.\n",
    "        eta: The step size.\n",
    "        N_epochs: The number of epochs (iterations) to run SGD.\n",
    "        \n",
    "    Outputs:\n",
    "        w: A (D, ) shaped array containing the final weight vector.\n",
    "        losses: A (N_epochs, ) shaped array containing the losses from all iterations.\n",
    "    '''\n",
    "    \n",
    "    losses = np.empty(N_epochs)\n",
    "    new_w = w_start\n",
    "    for q in range(N_epochs):\n",
    "        for i in np.random.permutation(len(X)):\n",
    "            new_w = new_w - eta * gradient(X[i], Y[i], new_w)\n",
    "        losses[q] = loss(X, Y, new_w)\n",
    "    \n",
    "    return new_w, losses"
   ]
  },
  {
   "cell_type": "markdown",
   "metadata": {},
   "source": [
    "Next, we need to load the dataset. In doing so, the following function may be helpful:"
   ]
  },
  {
   "cell_type": "code",
   "execution_count": 6,
   "metadata": {
    "collapsed": true
   },
   "outputs": [],
   "source": [
    "def load_data(filename):\n",
    "    \"\"\"\n",
    "    Function loads data stored in the file filename and returns it as a numpy ndarray.\n",
    "    \n",
    "    Inputs:\n",
    "        filename: GeneratorExitiven as a string.\n",
    "    \n",
    "    Outputs:\n",
    "        Data contained in the file, returned as a numpy ndarray\n",
    "    \"\"\"\n",
    "    return np.loadtxt(filename, skiprows=1, delimiter=',')"
   ]
  },
  {
   "cell_type": "markdown",
   "metadata": {},
   "source": [
    "Now, load the dataset in `sgd_data.csv` and run SGD using the given parameters; print out the final weights."
   ]
  },
  {
   "cell_type": "code",
   "execution_count": 20,
   "metadata": {
    "collapsed": false
   },
   "outputs": [
    {
     "name": "stdout",
     "output_type": "stream",
     "text": [
      "[  0.99975883  -5.98980622   3.97771672 -11.86690775   8.90110846]\n"
     ]
    }
   ],
   "source": [
    "dataset = load_data('data/sgd_data.csv')\n",
    "\n",
    "X = dataset[:, [0, 1, 2, 3]]\n",
    "Y = dataset[:, 4]\n",
    "bias = 0.001\n",
    "N_epochs = 1000\n",
    "\n",
    "X = np.c_[np.transpose(bias * np.ones(len(dataset))) , X]\n",
    "\n",
    "w_start = [1, 0.001, 0.001, 0.001, 0.001]\n",
    "final_weight, dummy = SGD(X, Y, w_start, np.exp(-15), N_epochs)\n",
    "print(final_weight)"
   ]
  },
  {
   "cell_type": "markdown",
   "metadata": {},
   "source": [
    "## Problem 4G: Convergence of SGD"
   ]
  },
  {
   "cell_type": "markdown",
   "metadata": {},
   "source": [
    "This problem examines the convergence of SGD for different learning rates. Please implement your code in the cell below:"
   ]
  },
  {
   "cell_type": "code",
   "execution_count": 24,
   "metadata": {
    "collapsed": false
   },
   "outputs": [
    {
     "data": {
      "text/plain": [
       "<matplotlib.text.Text at 0x1ea676011d0>"
      ]
     },
     "execution_count": 24,
     "metadata": {},
     "output_type": "execute_result"
    },
    {
     "data": {
      "image/png": "[encoded data removed]",
      "text/plain": [
       "<matplotlib.figure.Figure at 0x1ea675cb400>"
      ]
     },
     "metadata": {},
     "output_type": "display_data"
    }
   ],
   "source": [
    "eta_vals = [np.exp(-10), np.exp(-11), np.exp(-12), np.exp(-13),\n",
    "            np.exp(-14),np.exp(-15)]\n",
    "w_start = [1, 0.001, 0.001, 0.001, 0.001]\n",
    "\n",
    "dummy, losses1 = SGD(X, Y, w_start, eta_vals[0], N_epochs)\n",
    "dummy, losses2 = SGD(X, Y, w_start, eta_vals[1], N_epochs)\n",
    "dummy, losses3 = SGD(X, Y, w_start, eta_vals[2], N_epochs)\n",
    "dummy, losses4 = SGD(X, Y, w_start, eta_vals[3], N_epochs)\n",
    "dummy, losses5 = SGD(X, Y, w_start, eta_vals[4], N_epochs)\n",
    "dummy, losses6 = SGD(X, Y, w_start, eta_vals[5], N_epochs)\n",
    "xs = range(N_epochs)\n",
    "plt.figure()\n",
    "plt.plot(xs, losses1, 'r', label='eta e-10')\n",
    "plt.plot(xs, losses2, 'b', label='eta e-11')\n",
    "plt.plot(xs, losses3, 'g', label='eta e-12')\n",
    "plt.plot(xs, losses4, 'k', label='eta e-13')\n",
    "plt.plot(xs, losses5, 'y', label='eta e-14')\n",
    "plt.plot(xs, losses6, 'm', label='eta e-15')\n",
    "plt.legend()\n",
    "plt.xlabel('epoch')\n",
    "plt.ylabel('loss')\n",
    "    "
   ]
  },
  {
   "cell_type": "markdown",
   "metadata": {},
   "source": [
    "## Problem 4H"
   ]
  },
  {
   "cell_type": "markdown",
   "metadata": {},
   "source": [
    "Provide your code for computing the least-squares analytical solution below."
   ]
  },
  {
   "cell_type": "code",
   "execution_count": 26,
   "metadata": {
    "collapsed": false
   },
   "outputs": [
    {
     "name": "stdout",
     "output_type": "stream",
     "text": [
      "[  6.82120458e-06   3.99731775e-02   3.02980787e-02   4.57716791e-02\n",
      "   2.55922835e-02]\n"
     ]
    }
   ],
   "source": [
    "X = dataset[:, [0, 1, 2, 3]]\n",
    "Y = dataset[:, 4]\n",
    "\n",
    "total1 = 0.0\n",
    "X_copy = X\n",
    "for i in range(len(X)):\n",
    "    total1 += np.dot(X[i], np.transpose(X[i]))\n",
    "    X_copy[i] *= Y[i]\n",
    "\n",
    "w = (1.0 / total1) * (np.sum(X_copy, axis=0))\n",
    "print(w)"
   ]
  },
  {
   "cell_type": "code",
   "execution_count": null,
   "metadata": {
    "collapsed": true
   },
   "outputs": [],
   "source": []
  }
 ],
 "metadata": {
  "anaconda-cloud": {},
  "kernelspec": {
   "display_name": "Python 3",
   "language": "python",
   "name": "python3"
  },
  "language_info": {
   "codemirror_mode": {
    "name": "ipython",
    "version": 3
   },
   "file_extension": ".py",
   "mimetype": "text/x-python",
   "name": "python",
   "nbconvert_exporter": "python",
   "pygments_lexer": "ipython3",
   "version": "3.6.0"
  }
 },
 "nbformat": 4,
 "nbformat_minor": 1
}
