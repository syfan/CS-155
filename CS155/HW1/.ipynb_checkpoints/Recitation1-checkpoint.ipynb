{
 "cells": [
  {
   "cell_type": "markdown",
   "metadata": {},
   "source": [
    "Hi! This is a notebook. You can write code or text here."
   ]
  },
  {
   "cell_type": "markdown",
   "metadata": {},
   "source": [
    "# Basics"
   ]
  },
  {
   "cell_type": "code",
   "execution_count": 1,
   "metadata": {
    "collapsed": false
   },
   "outputs": [
    {
     "name": "stdout",
     "output_type": "stream",
     "text": [
      "hey\n"
     ]
    }
   ],
   "source": [
    "print(\"hey\")"
   ]
  },
  {
   "cell_type": "code",
   "execution_count": 2,
   "metadata": {
    "collapsed": false
   },
   "outputs": [
    {
     "name": "stdout",
     "output_type": "stream",
     "text": [
      "rohan\n",
      "rohan\n",
      "rohan\n",
      "rohan\n",
      "rohan\n",
      "rohan\n",
      "rohan\n"
     ]
    }
   ],
   "source": [
    "for i in range(7):\n",
    "    print(\"rohan\"),"
   ]
  },
  {
   "cell_type": "code",
   "execution_count": 3,
   "metadata": {
    "collapsed": true
   },
   "outputs": [],
   "source": [
    "x = 2"
   ]
  },
  {
   "cell_type": "code",
   "execution_count": 4,
   "metadata": {
    "collapsed": false
   },
   "outputs": [
    {
     "name": "stdout",
     "output_type": "stream",
     "text": [
      "4\n"
     ]
    }
   ],
   "source": [
    "print(x + 4 - 2 + 0)"
   ]
  },
  {
   "cell_type": "markdown",
   "metadata": {},
   "source": [
    "# Numpy Basics"
   ]
  },
  {
   "cell_type": "code",
   "execution_count": 5,
   "metadata": {
    "collapsed": true
   },
   "outputs": [],
   "source": [
    "import numpy as np"
   ]
  },
  {
   "cell_type": "code",
   "execution_count": 6,
   "metadata": {
    "collapsed": false
   },
   "outputs": [
    {
     "name": "stdout",
     "output_type": "stream",
     "text": [
      "(3,)\n",
      "3\n",
      "1\n"
     ]
    }
   ],
   "source": [
    "a = np.array([1, 2, 3])\n",
    "print(a.shape)\n",
    "print(a.size)\n",
    "print(a.ndim)"
   ]
  },
  {
   "cell_type": "code",
   "execution_count": 7,
   "metadata": {
    "collapsed": false
   },
   "outputs": [
    {
     "name": "stdout",
     "output_type": "stream",
     "text": [
      "(100,)\n",
      "100\n",
      "1\n"
     ]
    }
   ],
   "source": [
    "x = np.arange(100)\n",
    "print(x.shape)\n",
    "print(x.size)\n",
    "print(x.ndim)"
   ]
  },
  {
   "cell_type": "code",
   "execution_count": 8,
   "metadata": {
    "collapsed": false
   },
   "outputs": [
    {
     "name": "stdout",
     "output_type": "stream",
     "text": [
      "(5, 20)\n",
      "100\n",
      "2\n"
     ]
    }
   ],
   "source": [
    "y = np.random.rand(5, 20)\n",
    "print(y.shape)\n",
    "print(y.size)\n",
    "print(y.ndim)"
   ]
  },
  {
   "cell_type": "code",
   "execution_count": 9,
   "metadata": {
    "collapsed": true
   },
   "outputs": [],
   "source": [
    "x.shape = (20, 5)"
   ]
  },
  {
   "cell_type": "code",
   "execution_count": 10,
   "metadata": {
    "collapsed": false
   },
   "outputs": [
    {
     "name": "stdout",
     "output_type": "stream",
     "text": [
      "(20, 5)\n"
     ]
    }
   ],
   "source": [
    "x.shape = (20, -1)\n",
    "print(x.shape)"
   ]
  },
  {
   "cell_type": "code",
   "execution_count": 11,
   "metadata": {
    "collapsed": false
   },
   "outputs": [
    {
     "name": "stdout",
     "output_type": "stream",
     "text": [
      "First 5 rows\n",
      " [[ 0  1  2  3  4]\n",
      " [ 5  6  7  8  9]\n",
      " [10 11 12 13 14]\n",
      " [15 16 17 18 19]\n",
      " [20 21 22 23 24]]\n",
      "Row 18 to the end\n",
      " [[90 91 92 93 94]\n",
      " [95 96 97 98 99]]\n",
      "Last 5 rows\n",
      " [[75 76 77 78 79]\n",
      " [80 81 82 83 84]\n",
      " [85 86 87 88 89]\n",
      " [90 91 92 93 94]\n",
      " [95 96 97 98 99]]\n",
      "Reverse the rows\n",
      " [[95 96 97 98 99]\n",
      " [90 91 92 93 94]\n",
      " [85 86 87 88 89]\n",
      " [80 81 82 83 84]\n",
      " [75 76 77 78 79]\n",
      " [70 71 72 73 74]\n",
      " [65 66 67 68 69]\n",
      " [60 61 62 63 64]\n",
      " [55 56 57 58 59]\n",
      " [50 51 52 53 54]\n",
      " [45 46 47 48 49]\n",
      " [40 41 42 43 44]\n",
      " [35 36 37 38 39]\n",
      " [30 31 32 33 34]\n",
      " [25 26 27 28 29]\n",
      " [20 21 22 23 24]\n",
      " [15 16 17 18 19]\n",
      " [10 11 12 13 14]\n",
      " [ 5  6  7  8  9]\n",
      " [ 0  1  2  3  4]]\n"
     ]
    }
   ],
   "source": [
    "# Slicing\n",
    "print(\"First 5 rows\\n\", x[:5])\n",
    "print(\"Row 18 to the end\\n\", x[18:])\n",
    "print(\"Last 5 rows\\n\", x[-5:])\n",
    "print(\"Reverse the rows\\n\", x[::-1])"
   ]
  },
  {
   "cell_type": "code",
   "execution_count": 12,
   "metadata": {
    "collapsed": false
   },
   "outputs": [
    {
     "name": "stdout",
     "output_type": "stream",
     "text": [
      "[[ 5  6  7  8  9]\n",
      " [15 16 17 18 19]\n",
      " [25 26 27 28 29]]\n"
     ]
    }
   ],
   "source": [
    "print(x[[1, 3, 5], :])"
   ]
  },
  {
   "cell_type": "markdown",
   "metadata": {},
   "source": [
    "# Importing Data"
   ]
  },
  {
   "cell_type": "markdown",
   "metadata": {},
   "source": [
    "From csv:"
   ]
  },
  {
   "cell_type": "code",
   "execution_count": 13,
   "metadata": {
    "collapsed": true
   },
   "outputs": [],
   "source": [
    "import csv\n",
    "import numpy as np\n",
    "\n",
    "dest_file = \"rec_data.csv\"\n",
    "\n",
    "with open(dest_file, 'r') as dest_f:\n",
    "    data_iter = csv.reader(dest_f, quotechar = '\"')\n",
    "    data = [data for data in data_iter]\n",
    "    \n",
    "data_array = np.asarray(data[1:], dtype = float) # use dtype to ensure it's correct data type\n",
    "\n",
    "# Skip the pesky \"x\" and \"y\" column headers. \n",
    "X = data_array[:,0]\n",
    "y = data_array[:,1]"
   ]
  },
  {
   "cell_type": "markdown",
   "metadata": {},
   "source": [
    "From txt:"
   ]
  },
  {
   "cell_type": "code",
   "execution_count": 14,
   "metadata": {
    "collapsed": true
   },
   "outputs": [],
   "source": [
    "# CSV files also work for np.genfromtxt\n",
    "data = np.genfromtxt('rec_data.csv', delimiter = ',', skip_header=1)\n",
    "X = data[:, 0]\n",
    "y = data[:, 1]"
   ]
  },
  {
   "cell_type": "markdown",
   "metadata": {},
   "source": [
    "# Separating Data: K-fold validation"
   ]
  },
  {
   "cell_type": "code",
   "execution_count": 15,
   "metadata": {
    "collapsed": true
   },
   "outputs": [],
   "source": [
    "from sklearn.model_selection import KFold"
   ]
  },
  {
   "cell_type": "code",
   "execution_count": 16,
   "metadata": {
    "collapsed": true
   },
   "outputs": [],
   "source": [
    "# Let's use the same data as before.\n",
    "kf = KFold(n_splits = 5)\n",
    "inds = [ind for ind in kf.split(X, y)]\n",
    "train, val = inds[0]\n",
    "\n",
    "# You can use X[train], X[val] to get the training and validation data for the first split."
   ]
  },
  {
   "cell_type": "markdown",
   "metadata": {},
   "source": [
    "# Matplotlib Basics"
   ]
  },
  {
   "cell_type": "code",
   "execution_count": 17,
   "metadata": {
    "collapsed": true
   },
   "outputs": [],
   "source": [
    "import matplotlib.pyplot as plt\n",
    "%matplotlib inline"
   ]
  },
  {
   "cell_type": "code",
   "execution_count": 18,
   "metadata": {
    "collapsed": false
   },
   "outputs": [
    {
     "data": {
      "image/png": "[encoded data removed]",
      "text/plain": [
       "<matplotlib.figure.Figure at 0x1140889b0>"
      ]
     },
     "metadata": {},
     "output_type": "display_data"
    }
   ],
   "source": [
    "xs = range(100)\n",
    "ys = range(0, 200, 2)\n",
    "plt.plot(xs, ys, label = \"Sample line\")\n",
    "\n",
    "xs2 = range(0, 100, 2)\n",
    "ys2 = range(0, 100, 2)\n",
    "plt.scatter(xs2, ys2, label = \"Another Sample Line\")\n",
    "\n",
    "plt.xlabel(\"X Axis\")\n",
    "plt.ylabel(\"Y Axis\")\n",
    "plt.legend()\n",
    "\n",
    "plt.xlim(0, 100)\n",
    "plt.ylim(0, 100)\n",
    "plt.show()"
   ]
  },
  {
   "cell_type": "markdown",
   "metadata": {},
   "source": [
    "There are lot more fancy features but you can read about those yourself in a tutorial (see the recitation slides) if you're not aware of them already. "
   ]
  },
  {
   "cell_type": "markdown",
   "metadata": {
    "collapsed": true
   },
   "source": [
    "# Example - polynomial regression"
   ]
  },
  {
   "cell_type": "markdown",
   "metadata": {},
   "source": [
    "Here we're going to do a more in depth example, using numpy to compute a degree 6 polynomial fit and find its errors."
   ]
  },
  {
   "cell_type": "code",
   "execution_count": 19,
   "metadata": {
    "collapsed": false
   },
   "outputs": [
    {
     "data": {
      "image/png": "[encoded data removed]",
      "text/plain": [
       "<matplotlib.figure.Figure at 0x1140ab908>"
      ]
     },
     "metadata": {},
     "output_type": "display_data"
    }
   ],
   "source": [
    "# Generate a toy dataset.\n",
    "X = np.linspace(0, 10, 100)\n",
    "noise = np.random.normal(0, 0.1, size=100)\n",
    "y = np.sin(X) + noise\n",
    "\n",
    "plt.scatter(X, y)\n",
    "\n",
    "plt.xlabel(\"X\")\n",
    "plt.ylabel(\"y\")\n",
    "plt.show()"
   ]
  },
  {
   "cell_type": "code",
   "execution_count": 20,
   "metadata": {
    "collapsed": true
   },
   "outputs": [],
   "source": [
    "from sklearn.model_selection import train_test_split\n",
    "\n",
    "# Do a 80-20 training validation split.\n",
    "x_train, x_val, y_train, y_val = train_test_split(X, y, test_size=0.2)"
   ]
  },
  {
   "cell_type": "code",
   "execution_count": 21,
   "metadata": {
    "collapsed": true
   },
   "outputs": [],
   "source": [
    "# Reuse the training data from before. Set dimension as 2.\n",
    "dim = 2\n",
    "\n",
    "vals = np.polyfit(x_train, y_train, dim) \n",
    "        \n",
    "# Compute loss.\n",
    "train_err = np.mean((np.polyval(vals, x_train) - y_train) ** 2)\n",
    "val_err = np.mean((np.polyval(vals, x_val) - y_val) ** 2)"
   ]
  },
  {
   "cell_type": "code",
   "execution_count": 22,
   "metadata": {
    "collapsed": false
   },
   "outputs": [
    {
     "data": {
      "text/plain": [
       "(0.3681543355819431, 0.38554851822615976)"
      ]
     },
     "execution_count": 22,
     "metadata": {},
     "output_type": "execute_result"
    }
   ],
   "source": [
    "train_err, val_err"
   ]
  },
  {
   "cell_type": "code",
   "execution_count": 23,
   "metadata": {
    "collapsed": false
   },
   "outputs": [
    {
     "data": {
      "image/png": "[encoded data removed]",
      "text/plain": [
       "<matplotlib.figure.Figure at 0x114031fd0>"
      ]
     },
     "metadata": {},
     "output_type": "display_data"
    }
   ],
   "source": [
    "# Let's plot what the final model looks like.\n",
    "plt.scatter(X, y)\n",
    "plt.plot(X, np.polyval(vals, X))\n",
    "\n",
    "plt.xlabel(\"X\")\n",
    "plt.ylabel(\"y\")\n",
    "plt.show()"
   ]
  },
  {
   "cell_type": "code",
   "execution_count": null,
   "metadata": {
    "collapsed": true
   },
   "outputs": [],
   "source": []
  }
 ],
 "metadata": {
  "anaconda-cloud": {},
  "kernelspec": {
   "display_name": "Python 3",
   "language": "python",
   "name": "python3"
  },
  "language_info": {
   "codemirror_mode": {
    "name": "ipython",
    "version": 3
   },
   "file_extension": ".py",
   "mimetype": "text/x-python",
   "name": "python",
   "nbconvert_exporter": "python",
   "pygments_lexer": "ipython3",
   "version": "3.6.0"
  }
 },
 "nbformat": 4,
 "nbformat_minor": 1
}
