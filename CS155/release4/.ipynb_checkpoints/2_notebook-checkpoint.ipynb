{
 "cells": [
  {
   "cell_type": "markdown",
   "metadata": {},
   "source": [
    "# Problem 2"
   ]
  },
  {
   "cell_type": "markdown",
   "metadata": {},
   "source": [
    "Use this notebook to write your code for problem 3."
   ]
  },
  {
   "cell_type": "code",
   "execution_count": 1,
   "metadata": {
    "collapsed": true
   },
   "outputs": [],
   "source": [
    "import numpy as np\n",
    "import matplotlib.pyplot as plt\n",
    "%matplotlib inline"
   ]
  },
  {
   "cell_type": "code",
   "execution_count": 2,
   "metadata": {},
   "outputs": [
    {
     "name": "stderr",
     "output_type": "stream",
     "text": [
      "Using TensorFlow backend.\n"
     ]
    }
   ],
   "source": [
    "# load MNIST data into Keras format\n",
    "import keras\n",
    "from keras.datasets import mnist\n",
    "\n",
    "(x_train, y_train), (x_test, y_test) = mnist.load_data()"
   ]
  },
  {
   "cell_type": "code",
   "execution_count": 3,
   "metadata": {},
   "outputs": [
    {
     "name": "stdout",
     "output_type": "stream",
     "text": [
      "(60000, 28, 28)\n",
      "(10000, 28, 28)\n"
     ]
    }
   ],
   "source": [
    "# look at the shapes\n",
    "print(x_train.shape)\n",
    "print(x_test.shape)"
   ]
  },
  {
   "cell_type": "code",
   "execution_count": 4,
   "metadata": {
    "collapsed": true
   },
   "outputs": [],
   "source": [
    "# we'll need to one-hot encode the labels\n",
    "y_train = keras.utils.np_utils.to_categorical(y_train)\n",
    "y_test = keras.utils.np_utils.to_categorical(y_test)"
   ]
  },
  {
   "cell_type": "code",
   "execution_count": 5,
   "metadata": {
    "collapsed": true
   },
   "outputs": [],
   "source": [
    "# don't forget to NORMALIZE\n",
    "x_train = np.divide(x_train, 255)\n",
    "x_test = np.divide(x_test, 255)"
   ]
  },
  {
   "cell_type": "code",
   "execution_count": 6,
   "metadata": {
    "collapsed": true
   },
   "outputs": [],
   "source": [
    "# we must reshape the X data (add a channel dimension)\n",
    "x_train = x_train.reshape(tuple(list(x_train.shape) + [1]))\n",
    "x_test = x_test.reshape(tuple(list(x_test.shape) + [1]))"
   ]
  },
  {
   "cell_type": "code",
   "execution_count": 7,
   "metadata": {},
   "outputs": [
    {
     "name": "stdout",
     "output_type": "stream",
     "text": [
      "(60000, 28, 28, 1)\n",
      "(10000, 28, 28, 1)\n"
     ]
    }
   ],
   "source": [
    "# look at the shapes\n",
    "print(x_train.shape)\n",
    "print(x_test.shape)"
   ]
  },
  {
   "cell_type": "code",
   "execution_count": 8,
   "metadata": {
    "collapsed": true
   },
   "outputs": [],
   "source": [
    "from keras.models import Sequential\n",
    "from keras.layers import Dense, Activation, Dropout\n",
    "from keras.layers import Conv2D, MaxPooling2D, Flatten, BatchNormalization\n",
    "from keras import regularizers\n",
    "\n",
    "# sample model\n",
    "# note: what is the difference between 'same' and 'valid' padding?\n",
    "# Take a look at the outputs to understand the difference, or read the Keras documentation!\n",
    "model = Sequential()\n",
    "model.add(Conv2D(8, (3, 3), padding='same',\n",
    "                 input_shape=(28, 28, 1)))\n",
    "model.add(Activation('relu'))\n",
    "model.add(MaxPooling2D(pool_size=(2, 2)))\n",
    "model.add(Dropout(0.50))\n",
    "\n",
    "model.add(Conv2D(8, (3, 3), padding='same'))\n",
    "model.add(Activation('relu'))\n",
    "model.add(MaxPooling2D(pool_size=(2, 2)))\n",
    "model.add(Dropout(0.50))\n",
    "\n",
    "model.add(Flatten())\n",
    "model.add(Dense(64))\n",
    "model.add(Activation('relu'))\n",
    "model.add(Dense(10))\n",
    "model.add(Activation('softmax'))"
   ]
  },
  {
   "cell_type": "code",
   "execution_count": 9,
   "metadata": {},
   "outputs": [
    {
     "name": "stdout",
     "output_type": "stream",
     "text": [
      "<keras.layers.convolutional.Conv2D object at 0x0000017F471C9F98>\n",
      "(None, 28, 28, 8)\n",
      "<keras.layers.core.Activation object at 0x0000017F471E6CF8>\n",
      "(None, 28, 28, 8)\n",
      "<keras.layers.pooling.MaxPooling2D object at 0x0000017F471E6CC0>\n",
      "(None, 14, 14, 8)\n",
      "<keras.layers.core.Dropout object at 0x0000017F3D7CA668>\n",
      "(None, 14, 14, 8)\n",
      "<keras.layers.convolutional.Conv2D object at 0x0000017F471CB518>\n",
      "(None, 14, 14, 8)\n",
      "<keras.layers.core.Activation object at 0x0000017F47200978>\n",
      "(None, 14, 14, 8)\n",
      "<keras.layers.pooling.MaxPooling2D object at 0x0000017F47287B00>\n",
      "(None, 7, 7, 8)\n",
      "<keras.layers.core.Dropout object at 0x0000017F3A67C358>\n",
      "(None, 7, 7, 8)\n",
      "<keras.layers.core.Flatten object at 0x0000017F472879E8>\n",
      "(None, 392)\n",
      "<keras.layers.core.Dense object at 0x0000017F472875F8>\n",
      "(None, 64)\n",
      "<keras.layers.core.Activation object at 0x0000017F4725DB38>\n",
      "(None, 64)\n",
      "<keras.layers.core.Dense object at 0x0000017F472E4BE0>\n",
      "(None, 10)\n",
      "<keras.layers.core.Activation object at 0x0000017F472E46D8>\n",
      "(None, 10)\n"
     ]
    }
   ],
   "source": [
    "# why don't we take a look at the layers and outputs\n",
    "# note: `None` in the first dimension means it can take any batch_size!\n",
    "for i in range(len(model.layers)):\n",
    "    layer = model.layers[i]\n",
    "    print(layer)\n",
    "    print(layer.output_shape)"
   ]
  },
  {
   "cell_type": "code",
   "execution_count": 10,
   "metadata": {},
   "outputs": [
    {
     "data": {
      "text/plain": [
       "26466"
      ]
     },
     "execution_count": 10,
     "metadata": {},
     "output_type": "execute_result"
    }
   ],
   "source": [
    "# our model has some # of parameters:\n",
    "model.count_params()"
   ]
  },
  {
   "cell_type": "code",
   "execution_count": 11,
   "metadata": {
    "collapsed": true
   },
   "outputs": [],
   "source": [
    "# For a multi-class classification problem\n",
    "model.compile(optimizer='rmsprop',\n",
    "              loss='categorical_crossentropy',\n",
    "              metrics=['accuracy'])"
   ]
  },
  {
   "cell_type": "code",
   "execution_count": 12,
   "metadata": {},
   "outputs": [
    {
     "name": "stdout",
     "output_type": "stream",
     "text": [
      "Train on 60000 samples, validate on 10000 samples\n",
      "Epoch 1/10\n",
      "60000/60000 [==============================] - 45s 748us/step - loss: 0.5891 - acc: 0.8065 - val_loss: 0.1632 - val_acc: 0.9548\n",
      "Epoch 2/10\n",
      "60000/60000 [==============================] - 37s 611us/step - loss: 0.3037 - acc: 0.9022 - val_loss: 0.1246 - val_acc: 0.9622\n",
      "Epoch 3/10\n",
      "60000/60000 [==============================] - 38s 630us/step - loss: 0.2610 - acc: 0.9177 - val_loss: 0.1039 - val_acc: 0.9701\n",
      "Epoch 4/10\n",
      "60000/60000 [==============================] - 40s 671us/step - loss: 0.2356 - acc: 0.9256 - val_loss: 0.0998 - val_acc: 0.9729\n",
      "Epoch 5/10\n",
      "60000/60000 [==============================] - 37s 609us/step - loss: 0.2217 - acc: 0.9291 - val_loss: 0.0905 - val_acc: 0.9749\n",
      "Epoch 6/10\n",
      "60000/60000 [==============================] - 36s 608us/step - loss: 0.2140 - acc: 0.9326 - val_loss: 0.0875 - val_acc: 0.9743\n",
      "Epoch 7/10\n",
      "60000/60000 [==============================] - 37s 608us/step - loss: 0.2081 - acc: 0.9342 - val_loss: 0.0791 - val_acc: 0.9779\n",
      "Epoch 8/10\n",
      "60000/60000 [==============================] - 39s 643us/step - loss: 0.2016 - acc: 0.9360 - val_loss: 0.0856 - val_acc: 0.9760\n",
      "Epoch 9/10\n",
      "60000/60000 [==============================] - 37s 625us/step - loss: 0.1937 - acc: 0.9389 - val_loss: 0.0836 - val_acc: 0.9757\n",
      "Epoch 10/10\n",
      "60000/60000 [==============================] - 38s 630us/step - loss: 0.1919 - acc: 0.9399 - val_loss: 0.0793 - val_acc: 0.9789\n"
     ]
    }
   ],
   "source": [
    "# Train the model, iterating on the data in batches of 32 samples\n",
    "history = model.fit(x_train, y_train, epochs=10, batch_size=32,\n",
    "                    validation_data=(x_test, y_test))"
   ]
  },
  {
   "cell_type": "markdown",
   "metadata": {},
   "source": [
    "Above, we output the training loss/accuracy as well as the validation (here, the TEST) loss and accuracy. To confirm that these are right, we can explicitly print out the training and test losses/accuracies."
   ]
  },
  {
   "cell_type": "code",
   "execution_count": 13,
   "metadata": {},
   "outputs": [
    {
     "data": {
      "text/plain": [
       "['loss', 'acc']"
      ]
     },
     "execution_count": 13,
     "metadata": {},
     "output_type": "execute_result"
    }
   ],
   "source": [
    "# note that our model outputs two eval params:\n",
    "# 1. loss (categorical cross-entropy)\n",
    "# 2. accuracy\n",
    "model.metrics_names"
   ]
  },
  {
   "cell_type": "code",
   "execution_count": 14,
   "metadata": {
    "scrolled": true
   },
   "outputs": [
    {
     "name": "stdout",
     "output_type": "stream",
     "text": [
      "60000/60000 [==============================] - 14s 237us/step\n"
     ]
    },
    {
     "data": {
      "text/plain": [
       "[0.084354429868236186, 0.97668333333333335]"
      ]
     },
     "execution_count": 14,
     "metadata": {},
     "output_type": "execute_result"
    }
   ],
   "source": [
    "model.evaluate(x=x_train, y=y_train)"
   ]
  },
  {
   "cell_type": "code",
   "execution_count": 15,
   "metadata": {},
   "outputs": [
    {
     "name": "stdout",
     "output_type": "stream",
     "text": [
      "10000/10000 [==============================] - 2s 238us/step\n"
     ]
    },
    {
     "data": {
      "text/plain": [
       "[0.079333119192719459, 0.97889999999999999]"
      ]
     },
     "execution_count": 15,
     "metadata": {},
     "output_type": "execute_result"
    }
   ],
   "source": [
    "model.evaluate(x=x_test, y=y_test)"
   ]
  },
  {
   "cell_type": "markdown",
   "metadata": {},
   "source": [
    "Not bad! Let's see if you can do better."
   ]
  },
  {
   "cell_type": "code",
   "execution_count": 28,
   "metadata": {},
   "outputs": [],
   "source": [
    "# Creating model for Problem D\n",
    "\n",
    "\n",
    "# model with <= 200 hidden units and >= 2 hidden layers\n",
    "# note: what is the difference between 'same' and 'valid' padding?\n",
    "# Take a look at the outputs to understand the difference, or read the Keras documentation!\n",
    "model = Sequential()\n",
    "model.add(Conv2D(8, (3, 3), padding='same',\n",
    "                 input_shape=(28, 28, 1)))\n",
    "model.add(Activation('relu'))\n",
    "model.add(MaxPooling2D(pool_size=(2, 2)))\n",
    "model.add(Dropout(0.50))\n",
    "\n",
    "model.add(Conv2D(8, (3, 3), padding='same'))\n",
    "model.add(Activation('relu'))\n",
    "model.add(MaxPooling2D(pool_size=(2, 2)))\n",
    "model.add(Dropout(0.50))\n",
    "\n",
    "model.add(Flatten())\n",
    "model.add(Dense(128))\n",
    "model.add(Activation('relu'))\n",
    "model.add(Dense(128))\n",
    "model.add(Activation('relu'))\n",
    "model.add(Dense(10))\n",
    "model.add(Activation('softmax'))"
   ]
  },
  {
   "cell_type": "code",
   "execution_count": 19,
   "metadata": {
    "scrolled": true
   },
   "outputs": [
    {
     "name": "stdout",
     "output_type": "stream",
     "text": [
      "<keras.layers.convolutional.Conv2D object at 0x0000017F48D5C940>\n",
      "(None, 28, 28, 8)\n",
      "<keras.layers.core.Activation object at 0x0000017F48D5C240>\n",
      "(None, 28, 28, 8)\n",
      "<keras.layers.pooling.MaxPooling2D object at 0x0000017F48D5CEB8>\n",
      "(None, 14, 14, 8)\n",
      "<keras.layers.core.Dropout object at 0x0000017F479F3F28>\n",
      "(None, 14, 14, 8)\n",
      "<keras.layers.convolutional.Conv2D object at 0x0000017F48D8DB38>\n",
      "(None, 14, 14, 8)\n",
      "<keras.layers.core.Activation object at 0x0000017F48D5CEF0>\n",
      "(None, 14, 14, 8)\n",
      "<keras.layers.pooling.MaxPooling2D object at 0x0000017F48DAC630>\n",
      "(None, 7, 7, 8)\n",
      "<keras.layers.core.Dropout object at 0x0000017F48D8D7F0>\n",
      "(None, 7, 7, 8)\n",
      "<keras.layers.core.Flatten object at 0x0000017F48E06A90>\n",
      "(None, 392)\n",
      "<keras.layers.core.Dense object at 0x0000017F48E066A0>\n",
      "(None, 128)\n",
      "<keras.layers.core.Activation object at 0x0000017F48DF5668>\n",
      "(None, 128)\n",
      "<keras.layers.core.Dense object at 0x0000017F48E5FF98>\n",
      "(None, 128)\n",
      "<keras.layers.core.Activation object at 0x0000017F48E4AA58>\n",
      "(None, 128)\n",
      "<keras.layers.core.Dense object at 0x0000017F48E95E48>\n",
      "(None, 10)\n",
      "<keras.layers.core.Activation object at 0x0000017F48E95A20>\n",
      "(None, 10)\n"
     ]
    }
   ],
   "source": [
    "# why don't we take a look at the layers and outputs\n",
    "# note: `None` in the first dimension means it can take any batch_size!\n",
    "for i in range(len(model.layers)):\n",
    "    layer = model.layers[i]\n",
    "    print(layer)\n",
    "    print(layer.output_shape)"
   ]
  },
  {
   "cell_type": "code",
   "execution_count": 29,
   "metadata": {
    "collapsed": true
   },
   "outputs": [],
   "source": [
    "# For a multi-class classification problem\n",
    "model.compile(optimizer='rmsprop',\n",
    "              loss='categorical_crossentropy',\n",
    "              metrics=['accuracy'])"
   ]
  },
  {
   "cell_type": "code",
   "execution_count": 30,
   "metadata": {},
   "outputs": [
    {
     "name": "stdout",
     "output_type": "stream",
     "text": [
      "Train on 60000 samples, validate on 10000 samples\n",
      "Epoch 1/15\n",
      "60000/60000 [==============================] - 39s 646us/step - loss: 0.5776 - acc: 0.8087 - val_loss: 0.1556 - val_acc: 0.9545\n",
      "Epoch 2/15\n",
      "60000/60000 [==============================] - 38s 634us/step - loss: 0.2812 - acc: 0.9101 - val_loss: 0.1029 - val_acc: 0.9694\n",
      "Epoch 3/15\n",
      "60000/60000 [==============================] - 38s 636us/step - loss: 0.2314 - acc: 0.9271 - val_loss: 0.0940 - val_acc: 0.9735\n",
      "Epoch 4/15\n",
      "60000/60000 [==============================] - 38s 640us/step - loss: 0.2110 - acc: 0.9338 - val_loss: 0.0862 - val_acc: 0.9737\n",
      "Epoch 5/15\n",
      "60000/60000 [==============================] - 38s 639us/step - loss: 0.1979 - acc: 0.9377 - val_loss: 0.0758 - val_acc: 0.9780\n",
      "Epoch 6/15\n",
      "60000/60000 [==============================] - 38s 641us/step - loss: 0.1894 - acc: 0.9407 - val_loss: 0.0713 - val_acc: 0.9800\n",
      "Epoch 7/15\n",
      "60000/60000 [==============================] - 39s 644us/step - loss: 0.1899 - acc: 0.9410 - val_loss: 0.0667 - val_acc: 0.9817\n",
      "Epoch 8/15\n",
      "60000/60000 [==============================] - 39s 643us/step - loss: 0.1874 - acc: 0.9426 - val_loss: 0.0704 - val_acc: 0.9805\n",
      "Epoch 9/15\n",
      "60000/60000 [==============================] - 39s 643us/step - loss: 0.1804 - acc: 0.9455 - val_loss: 0.0697 - val_acc: 0.9792\n",
      "Epoch 10/15\n",
      "60000/60000 [==============================] - 39s 647us/step - loss: 0.1824 - acc: 0.9445 - val_loss: 0.0799 - val_acc: 0.9783\n",
      "Epoch 11/15\n",
      "60000/60000 [==============================] - 39s 645us/step - loss: 0.1804 - acc: 0.9458 - val_loss: 0.0785 - val_acc: 0.9769\n",
      "Epoch 12/15\n",
      "60000/60000 [==============================] - 39s 646us/step - loss: 0.1792 - acc: 0.9469 - val_loss: 0.0735 - val_acc: 0.9801\n",
      "Epoch 13/15\n",
      "60000/60000 [==============================] - 39s 648us/step - loss: 0.1801 - acc: 0.9472 - val_loss: 0.0721 - val_acc: 0.9822\n",
      "Epoch 14/15\n",
      "60000/60000 [==============================] - 39s 650us/step - loss: 0.1792 - acc: 0.9461 - val_loss: 0.0648 - val_acc: 0.9810\n",
      "Epoch 15/15\n",
      "60000/60000 [==============================] - 39s 655us/step - loss: 0.1776 - acc: 0.9470 - val_loss: 0.0584 - val_acc: 0.9837\n"
     ]
    }
   ],
   "source": [
    "# Train the model, iterating on the data in batches of 32 samples\n",
    "history = model.fit(x_train, y_train, epochs=15, batch_size=32,\n",
    "                    validation_data=(x_test, y_test))"
   ]
  },
  {
   "cell_type": "code",
   "execution_count": 31,
   "metadata": {
    "scrolled": true
   },
   "outputs": [
    {
     "name": "stdout",
     "output_type": "stream",
     "text": [
      "60000/60000 [==============================] - 15s 254us/step\n"
     ]
    },
    {
     "data": {
      "text/plain": [
       "[0.05795507019907236, 0.98271666666666668]"
      ]
     },
     "execution_count": 31,
     "metadata": {},
     "output_type": "execute_result"
    }
   ],
   "source": [
    "model.evaluate(x=x_train, y=y_train)"
   ]
  },
  {
   "cell_type": "code",
   "execution_count": 32,
   "metadata": {
    "scrolled": true
   },
   "outputs": [
    {
     "name": "stdout",
     "output_type": "stream",
     "text": [
      "10000/10000 [==============================] - 3s 255us/step\n"
     ]
    },
    {
     "data": {
      "text/plain": [
       "[0.058383460562210533, 0.98370000000000002]"
      ]
     },
     "execution_count": 32,
     "metadata": {},
     "output_type": "execute_result"
    }
   ],
   "source": [
    "model.evaluate(x=x_test, y=y_test)"
   ]
  },
  {
   "cell_type": "code",
   "execution_count": 33,
   "metadata": {
    "collapsed": true
   },
   "outputs": [],
   "source": [
    "# Creating model for Problem E\n",
    "\n",
    "\n",
    "# model with <= 1000 hidden units and >= 3 hidden layers\n",
    "# note: what is the difference between 'same' and 'valid' padding?\n",
    "# Take a look at the outputs to understand the difference, or read the Keras documentation!\n",
    "model = Sequential()\n",
    "model.add(Conv2D(8, (3, 3), padding='same',\n",
    "                 input_shape=(28, 28, 1)))\n",
    "model.add(Activation('relu'))\n",
    "model.add(MaxPooling2D(pool_size=(2, 2)))\n",
    "model.add(Dropout(0.50))\n",
    "\n",
    "model.add(Conv2D(8, (3, 3), padding='same'))\n",
    "model.add(Activation('relu'))\n",
    "model.add(MaxPooling2D(pool_size=(2, 2)))\n",
    "model.add(Dropout(0.50))\n",
    "\n",
    "model.add(Flatten())\n",
    "model.add(Dense(512))\n",
    "model.add(Activation('relu'))\n",
    "model.add(Dense(512))\n",
    "model.add(Activation('relu'))\n",
    "model.add(Dense(512))\n",
    "model.add(Activation('relu'))\n",
    "model.add(Dense(10))\n",
    "model.add(Activation('softmax'))"
   ]
  },
  {
   "cell_type": "code",
   "execution_count": 34,
   "metadata": {
    "scrolled": true
   },
   "outputs": [
    {
     "name": "stdout",
     "output_type": "stream",
     "text": [
      "<keras.layers.convolutional.Conv2D object at 0x0000017F4A581518>\n",
      "(None, 28, 28, 8)\n",
      "<keras.layers.core.Activation object at 0x0000017F4A05F0F0>\n",
      "(None, 28, 28, 8)\n",
      "<keras.layers.pooling.MaxPooling2D object at 0x0000017F4A05FCF8>\n",
      "(None, 14, 14, 8)\n",
      "<keras.layers.core.Dropout object at 0x0000017F4A05FEB8>\n",
      "(None, 14, 14, 8)\n",
      "<keras.layers.convolutional.Conv2D object at 0x0000017F4A581908>\n",
      "(None, 14, 14, 8)\n",
      "<keras.layers.core.Activation object at 0x0000017F4A05FF60>\n",
      "(None, 14, 14, 8)\n",
      "<keras.layers.pooling.MaxPooling2D object at 0x0000017F4A565F60>\n",
      "(None, 7, 7, 8)\n",
      "<keras.layers.core.Dropout object at 0x0000017F4A592940>\n",
      "(None, 7, 7, 8)\n",
      "<keras.layers.core.Flatten object at 0x0000017F4A220DA0>\n",
      "(None, 392)\n",
      "<keras.layers.core.Dense object at 0x0000017F4A073AC8>\n",
      "(None, 512)\n",
      "<keras.layers.core.Activation object at 0x0000017F4A232E80>\n",
      "(None, 512)\n",
      "<keras.layers.core.Dense object at 0x0000017F4A2B17F0>\n",
      "(None, 512)\n",
      "<keras.layers.core.Activation object at 0x0000017F4A2DCDA0>\n",
      "(None, 512)\n",
      "<keras.layers.core.Dense object at 0x0000017F4A329940>\n",
      "(None, 512)\n",
      "<keras.layers.core.Activation object at 0x0000017F4A3298D0>\n",
      "(None, 512)\n",
      "<keras.layers.core.Dense object at 0x0000017F4A3A29B0>\n",
      "(None, 10)\n",
      "<keras.layers.core.Activation object at 0x0000017F4A3A27F0>\n",
      "(None, 10)\n"
     ]
    }
   ],
   "source": [
    "# why don't we take a look at the layers and outputs\n",
    "# note: `None` in the first dimension means it can take any batch_size!\n",
    "for i in range(len(model.layers)):\n",
    "    layer = model.layers[i]\n",
    "    print(layer)\n",
    "    print(layer.output_shape)"
   ]
  },
  {
   "cell_type": "code",
   "execution_count": 35,
   "metadata": {
    "collapsed": true
   },
   "outputs": [],
   "source": [
    "# For a multi-class classification problem\n",
    "model.compile(optimizer='rmsprop',\n",
    "              loss='categorical_crossentropy',\n",
    "              metrics=['accuracy'])"
   ]
  },
  {
   "cell_type": "code",
   "execution_count": 36,
   "metadata": {},
   "outputs": [
    {
     "name": "stdout",
     "output_type": "stream",
     "text": [
      "Train on 60000 samples, validate on 10000 samples\n",
      "Epoch 1/20\n",
      "60000/60000 [==============================] - 70s 1ms/step - loss: 0.4814 - acc: 0.8446 - val_loss: 0.1507 - val_acc: 0.9565\n",
      "Epoch 2/20\n",
      "60000/60000 [==============================] - 67s 1ms/step - loss: 0.3120 - acc: 0.9079 - val_loss: 0.1168 - val_acc: 0.9642\n",
      "Epoch 3/20\n",
      "60000/60000 [==============================] - 62s 1ms/step - loss: 0.2852 - acc: 0.9168 - val_loss: 0.1311 - val_acc: 0.9640\n",
      "Epoch 4/20\n",
      "60000/60000 [==============================] - 64s 1ms/step - loss: 0.2813 - acc: 0.9181 - val_loss: 0.1121 - val_acc: 0.9682\n",
      "Epoch 5/20\n",
      "60000/60000 [==============================] - 67s 1ms/step - loss: 0.2739 - acc: 0.9217 - val_loss: 0.1455 - val_acc: 0.9661\n",
      "Epoch 6/20\n",
      "60000/60000 [==============================] - 62s 1ms/step - loss: 0.2744 - acc: 0.9207 - val_loss: 0.1243 - val_acc: 0.9644\n",
      "Epoch 7/20\n",
      "60000/60000 [==============================] - 63s 1ms/step - loss: 0.2725 - acc: 0.9217 - val_loss: 0.1320 - val_acc: 0.9629\n",
      "Epoch 8/20\n",
      "60000/60000 [==============================] - 66s 1ms/step - loss: 0.2719 - acc: 0.9231 - val_loss: 0.1275 - val_acc: 0.9627\n",
      "Epoch 9/20\n",
      "60000/60000 [==============================] - 68s 1ms/step - loss: 0.2693 - acc: 0.9233 - val_loss: 0.1168 - val_acc: 0.9670\n",
      "Epoch 10/20\n",
      "60000/60000 [==============================] - 67s 1ms/step - loss: 0.2723 - acc: 0.9240 - val_loss: 0.1296 - val_acc: 0.9656\n",
      "Epoch 11/20\n",
      "60000/60000 [==============================] - 67s 1ms/step - loss: 0.2627 - acc: 0.9255 - val_loss: 0.1367 - val_acc: 0.9702\n",
      "Epoch 12/20\n",
      "60000/60000 [==============================] - 68s 1ms/step - loss: 0.2648 - acc: 0.9262 - val_loss: 0.1538 - val_acc: 0.9652\n",
      "Epoch 13/20\n",
      "60000/60000 [==============================] - 68s 1ms/step - loss: 0.2747 - acc: 0.9263 - val_loss: 0.1401 - val_acc: 0.9609\n",
      "Epoch 14/20\n",
      "60000/60000 [==============================] - 69s 1ms/step - loss: 0.2557 - acc: 0.9290 - val_loss: 0.1461 - val_acc: 0.9576\n",
      "Epoch 15/20\n",
      "60000/60000 [==============================] - 71s 1ms/step - loss: 0.2622 - acc: 0.9286 - val_loss: 0.1566 - val_acc: 0.9553\n",
      "Epoch 16/20\n",
      "60000/60000 [==============================] - 68s 1ms/step - loss: 0.2617 - acc: 0.9264 - val_loss: 0.1934 - val_acc: 0.9506\n",
      "Epoch 17/20\n",
      "60000/60000 [==============================] - 68s 1ms/step - loss: 0.2603 - acc: 0.9299 - val_loss: 0.1617 - val_acc: 0.9633\n",
      "Epoch 18/20\n",
      "60000/60000 [==============================] - 68s 1ms/step - loss: 0.2617 - acc: 0.9279 - val_loss: 0.1351 - val_acc: 0.9626\n",
      "Epoch 19/20\n",
      "60000/60000 [==============================] - 68s 1ms/step - loss: 0.2662 - acc: 0.9277 - val_loss: 0.0969 - val_acc: 0.9720\n",
      "Epoch 20/20\n",
      "60000/60000 [==============================] - 69s 1ms/step - loss: 0.2638 - acc: 0.9278 - val_loss: 0.0838 - val_acc: 0.9758\n"
     ]
    }
   ],
   "source": [
    "# Train the model, iterating on the data in batches of 32 samples\n",
    "history = model.fit(x_train, y_train, epochs=20, batch_size=32,\n",
    "                    validation_data=(x_test, y_test))"
   ]
  },
  {
   "cell_type": "code",
   "execution_count": 37,
   "metadata": {
    "scrolled": true
   },
   "outputs": [
    {
     "name": "stdout",
     "output_type": "stream",
     "text": [
      "60000/60000 [==============================] - 20s 331us/step\n"
     ]
    },
    {
     "data": {
      "text/plain": [
       "[0.085722427699466544, 0.97606666666666664]"
      ]
     },
     "execution_count": 37,
     "metadata": {},
     "output_type": "execute_result"
    }
   ],
   "source": [
    "model.evaluate(x=x_train, y=y_train)"
   ]
  },
  {
   "cell_type": "code",
   "execution_count": 32,
   "metadata": {
    "scrolled": true
   },
   "outputs": [
    {
     "name": "stdout",
     "output_type": "stream",
     "text": [
      "10000/10000 [==============================] - 3s 255us/step\n"
     ]
    },
    {
     "data": {
      "text/plain": [
       "[0.058383460562210533, 0.98370000000000002]"
      ]
     },
     "execution_count": 32,
     "metadata": {},
     "output_type": "execute_result"
    }
   ],
   "source": [
    "model.evaluate(x=x_test, y=y_test)"
   ]
  },
  {
   "cell_type": "markdown",
   "metadata": {},
   "source": []
  }
 ],
 "metadata": {
  "kernelspec": {
   "display_name": "Python 3",
   "language": "python",
   "name": "python3"
  },
  "language_info": {
   "codemirror_mode": {
    "name": "ipython",
    "version": 3
   },
   "file_extension": ".py",
   "mimetype": "text/x-python",
   "name": "python",
   "nbconvert_exporter": "python",
   "pygments_lexer": "ipython3",
   "version": "3.6.2"
  }
 },
 "nbformat": 4,
 "nbformat_minor": 1
}
