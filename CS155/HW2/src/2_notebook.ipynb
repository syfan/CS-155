{
 "cells": [
  {
   "cell_type": "markdown",
   "metadata": {},
   "source": [
    "# Problem 2"
   ]
  },
  {
   "cell_type": "markdown",
   "metadata": {},
   "source": [
    "Use this notebook to write your code for problem 2. You may reuse your SGD code from last week."
   ]
  },
  {
   "cell_type": "code",
   "execution_count": 1,
   "metadata": {
    "collapsed": true
   },
   "outputs": [],
   "source": [
    "import numpy as np\n",
    "import matplotlib.pyplot as plt\n",
    "%matplotlib inline"
   ]
  },
  {
   "cell_type": "markdown",
   "metadata": {},
   "source": [
    "The following function may be useful for loading the necessary data."
   ]
  },
  {
   "cell_type": "code",
   "execution_count": 2,
   "metadata": {
    "collapsed": true
   },
   "outputs": [],
   "source": [
    "def load_data(filename):\n",
    "    \"\"\"\n",
    "    Function loads data stored in the file filename and returns it as a numpy ndarray.\n",
    "    \n",
    "    Inputs:\n",
    "        filename: given as a string.\n",
    "        \n",
    "    Outputs:\n",
    "        Data contained in the file, returned as a numpy ndarray\n",
    "    \"\"\"\n",
    "    return np.loadtxt(filename, skiprows=1, delimiter=',')"
   ]
  },
  {
   "cell_type": "code",
   "execution_count": 3,
   "metadata": {
    "collapsed": true
   },
   "outputs": [],
   "source": [
    "def unreg_logistic_error(X, Y, w):\n",
    "    '''\n",
    "    Calculate the unregularized logistic error.\n",
    "    \n",
    "    Inputs:\n",
    "        X: A (N, D) shaped numpy array containing the data points.\n",
    "        Y: A (N, ) shaped numpy array containing the (float) labels of the data points.\n",
    "        w: A (D, ) shaped numpy array containing the weight vector.\n",
    "    \n",
    "    Outputs:\n",
    "        The loss evaluated with respect to X, Y, and w.\n",
    "    '''\n",
    "    \n",
    "    total = 0.0\n",
    "    for i in range(0, len(X)):\n",
    "        check = Y[i]\n",
    "        if i == -1:\n",
    "            temp = 1 / (1 + np.exp(np.dot(w,X[i])))\n",
    "        else:\n",
    "            temp = 1 / (1 + np.exp(-np.dot(w,X[i])))\n",
    "        total += np.log(temp)\n",
    "        \n",
    "    return total * -1    \n",
    "\n",
    "def reg_logistic_error(X, Y, w, l):\n",
    "    total = 0.0\n",
    "    for i in range(len(X)):\n",
    "        total += np.log((1 / (1 + np.exp(-Y[i] * np.dot(w,X[i])))) \n",
    "                      - (l/len(X))*np.dot(np.transpose(w), w))\n",
    "    return total * -1\n",
    "\n",
    "def gradient(x, y, w, l, N):\n",
    "    '''\n",
    "    Calculate the gradient of the loss function with respect to\n",
    "    a single point (x, y), and using weight vector w and lambda l.\n",
    "    \n",
    "    Inputs:\n",
    "        x: A (D, ) shaped numpy array containing a single data point.\n",
    "        y: The float label for the data point.\n",
    "        w: A (D, ) shaped numpy array containing the weight vector.\n",
    "        l: Float for lambda value\n",
    "        \n",
    "    Output:\n",
    "        The gradient of the loss with respect to x, y, and w and l. \n",
    "    '''\n",
    "\n",
    "    return - (x * y / (np.exp(y * np.dot(w, x)) + 1) - 2 * l * w / N)\n",
    "\n",
    "def normalize(X):\n",
    "    for i in range(len(X)):\n",
    "        for j in range(len(X[0])):\n",
    "            col_avg = np.mean(X[:,j])\n",
    "            col_std = np.std(X[:,j])\n",
    "            X[i,j] = (X[i,j] - col_avg) / col_std\n",
    "\n",
    "def SGD(X, Y, w_start, eta, N_epochs, l):\n",
    "    '''\n",
    "    Perform SGD using dataset (X, Y), initial weight vector w_start,\n",
    "    learning rate eta, and N_epochs epochs.\n",
    "    \n",
    "    Inputs:\n",
    "        X: A (N, D) shaped numpy array containing the data points.\n",
    "        Y: A (N, ) shaped numpy array containing the (float) labels of the data points.\n",
    "        w_start:  A (D, ) shaped numpy array containing the weight vector initialization.\n",
    "        eta: The step size.\n",
    "        N_epochs: The number of epochs (iterations) to run SGD.\n",
    "        l: A float for lambda value\n",
    "        \n",
    "    Outputs:\n",
    "        W: A (N_epochs, D) shaped array containing the weight vectors from all iterations.\n",
    "        losses: A (N_epochs, ) shaped array containing the losses from all iterations.\n",
    "    '''\n",
    "    \n",
    "    \n",
    "    w = np.empty((N_epochs, 13))\n",
    "    losses = np.empty(N_epochs)\n",
    "    new_w = w_start\n",
    "    for q in range(N_epochs):\n",
    "        for i in np.random.permutation(len(X)):\n",
    "            new_w = new_w - eta * gradient(X[i], Y[i], new_w, l, N_epochs)\n",
    "        w[q] = new_w\n",
    "        losses[q] = reg_logistic_error(X, Y, new_w, l)\n",
    "    \n",
    "    return w, losses\n"
   ]
  },
  {
   "cell_type": "code",
   "execution_count": 4,
   "metadata": {
    "collapsed": false
   },
   "outputs": [
    {
     "name": "stderr",
     "output_type": "stream",
     "text": [
      "C:\\Users\\tyll1\\Anaconda3\\lib\\site-packages\\ipykernel\\__main__.py:29: RuntimeWarning: invalid value encountered in log\n"
     ]
    }
   ],
   "source": [
    "data1 = load_data('data/wine_training1.txt')\n",
    "N_epochs = 20000\n",
    "X_train1 = data1[:, 1:]\n",
    "normalize(X_train1)\n",
    "Y_train1 = data1[:, 0]\n",
    "init_weights = np.random.rand(13)/1000\n",
    "lambdas = [0.00001]\n",
    "lambda_len = 15\n",
    "eta = 5e-4\n",
    "for i in range(1,lambda_len):\n",
    "    lambdas.append(lambdas[i-1] * 5)\n",
    "weights = np.zeros((lambda_len, 13))\n",
    "losses = np.zeros(lambda_len)\n",
    "for i in range(lambda_len):\n",
    "    temp_weights, temp_losses = SGD(X_train1, Y_train1, init_weights, eta, N_epochs, lambdas[i])\n",
    "    losses[i] = np.mean(temp_losses)\n",
    "    weights[i] = np.mean(temp_weights, axis=0)"
   ]
  },
  {
   "cell_type": "code",
   "execution_count": 5,
   "metadata": {
    "collapsed": false
   },
   "outputs": [
    {
     "name": "stderr",
     "output_type": "stream",
     "text": [
      "C:\\Users\\tyll1\\Anaconda3\\lib\\site-packages\\ipykernel\\__main__.py:29: RuntimeWarning: invalid value encountered in log\n"
     ]
    }
   ],
   "source": [
    "data2 = load_data('data/wine_training2.txt')\n",
    "N_epochs = 20000\n",
    "X_train2 = data1[:, 1:]\n",
    "normalize(X_train2)\n",
    "Y_train2 = data1[:, 0]\n",
    "init_weights = np.random.rand(13)/1000\n",
    "lambdas = [0.00001]\n",
    "lambda_len = 15\n",
    "eta = 5e-4\n",
    "for i in range(1,lambda_len):\n",
    "    lambdas.append(lambdas[i-1] * 5)\n",
    "weights2 = np.zeros((lambda_len, 13))\n",
    "losses2 = np.zeros(lambda_len)\n",
    "for i in range(lambda_len):\n",
    "    temp_weights, temp_losses = SGD(X_train1, Y_train1, init_weights, eta, N_epochs, lambdas[i])\n",
    "    losses2[i] = np.mean(temp_losses)\n",
    "    weights2[i] = np.mean(temp_weights, axis=0)"
   ]
  },
  {
   "cell_type": "code",
   "execution_count": 6,
   "metadata": {
    "collapsed": false
   },
   "outputs": [
    {
     "data": {
      "text/plain": [
       "<matplotlib.text.Text at 0x25f28d10898>"
      ]
     },
     "execution_count": 6,
     "metadata": {},
     "output_type": "execute_result"
    },
    {
     "data": {
      "image/png": "[encoded data removed]",
      "text/plain": [
       "<matplotlib.figure.Figure at 0x25f25eaeba8>"
      ]
     },
     "metadata": {},
     "output_type": "display_data"
    }
   ],
   "source": [
    "norm_w1 = np.linalg.norm(weights, axis=0)\n",
    "norm_w2 = np.linalg.norm(weights2, axis=0)\n",
    "\n",
    "plt.figure()\n",
    "plt.plot(lambdas, losses, label='set 1')\n",
    "plt.plot(lambdas, losses2, label='set 2')\n",
    "plt.xscale('log')\n",
    "plt.legend()\n",
    "plt.title('Avg training error vs lambda')\n",
    "plt.xlabel('lambda')\n",
    "plt.ylabel('error')"
   ]
  },
  {
   "cell_type": "code",
   "execution_count": 10,
   "metadata": {
    "collapsed": false
   },
   "outputs": [
    {
     "data": {
      "text/plain": [
       "<matplotlib.text.Text at 0x25f296dd550>"
      ]
     },
     "execution_count": 10,
     "metadata": {},
     "output_type": "execute_result"
    },
    {
     "data": {
      "image/png": "[encoded data removed]",
      "text/plain": [
       "<matplotlib.figure.Figure at 0x25f299907f0>"
      ]
     },
     "metadata": {},
     "output_type": "display_data"
    }
   ],
   "source": [
    "test_data = load_data('data/wine_testing.txt')\n",
    "X_test = test_data[:, 1:]\n",
    "normalize(X_test)\n",
    "Y_test = test_data[:, 0]\n",
    "\n",
    "\n",
    "\n",
    "mistakes1 = np.zeros(len(lambdas))\n",
    "mistakes2 = np.zeros(len(lambdas))\n",
    "for i in range(len(lambdas)):\n",
    "    count = 0\n",
    "    count2 = 0\n",
    "    classes1 = np.sign(np.dot(weights, np.transpose(X_test)))\n",
    "    classes2 = np.sign(np.dot(weights2, np.transpose(X_test)))\n",
    "    for j in range(len(Y_test)):\n",
    "        if (classes1[i][j] != Y_test[j]):\n",
    "            count += 1\n",
    "        if (classes2[i][j] != Y_test[j]):\n",
    "            count2 += 1\n",
    "    mistakes1[i] = count / len(Y_test)\n",
    "    mistakes2[i] = count2 / len(Y_test)\n",
    "    \n",
    "plt.figure()\n",
    "plt.plot(lambdas, mistakes1, label='set 1')\n",
    "plt.plot(lambdas, mistakes2, label='set 2')\n",
    "plt.xscale('log')\n",
    "plt.legend()\n",
    "plt.title('Avg test error vs lambda')\n",
    "plt.xlabel('lambda')\n",
    "plt.ylabel('error')"
   ]
  },
  {
   "cell_type": "code",
   "execution_count": 11,
   "metadata": {
    "collapsed": false
   },
   "outputs": [
    {
     "data": {
      "text/plain": [
       "<matplotlib.text.Text at 0x25f2abac9b0>"
      ]
     },
     "execution_count": 11,
     "metadata": {},
     "output_type": "execute_result"
    },
    {
     "data": {
      "image/png": "[encoded data removed]",
      "text/plain": [
       "<matplotlib.figure.Figure at 0x25f29aa5e80>"
      ]
     },
     "metadata": {},
     "output_type": "display_data"
    }
   ],
   "source": [
    "plt.figure()\n",
    "plt.plot(lambdas, losses, label='set 1')\n",
    "plt.plot(lambdas, losses2, label='set 2')\n",
    "plt.xscale('log')\n",
    "plt.legend()\n",
    "plt.title('l2 w norm vs lambda')\n",
    "plt.xlabel('lambda')\n",
    "plt.ylabel('w norm')"
   ]
  },
  {
   "cell_type": "code",
   "execution_count": 9,
   "metadata": {
    "collapsed": false
   },
   "outputs": [
    {
     "data": {
      "text/plain": [
       "[1e-05,\n",
       " 5e-05,\n",
       " 0.00025,\n",
       " 0.00125,\n",
       " 0.00625,\n",
       " 0.03125,\n",
       " 0.15625,\n",
       " 0.78125,\n",
       " 3.90625,\n",
       " 19.53125,\n",
       " 97.65625,\n",
       " 488.28125,\n",
       " 2441.40625,\n",
       " 12207.03125,\n",
       " 61035.15625]"
      ]
     },
     "execution_count": 9,
     "metadata": {},
     "output_type": "execute_result"
    }
   ],
   "source": [
    "lambdas"
   ]
  },
  {
   "cell_type": "code",
   "execution_count": null,
   "metadata": {
    "collapsed": true
   },
   "outputs": [],
   "source": []
  }
 ],
 "metadata": {
  "kernelspec": {
   "display_name": "Python 3",
   "language": "python",
   "name": "python3"
  },
  "language_info": {
   "codemirror_mode": {
    "name": "ipython",
    "version": 3
   },
   "file_extension": ".py",
   "mimetype": "text/x-python",
   "name": "python",
   "nbconvert_exporter": "python",
   "pygments_lexer": "ipython3",
   "version": "3.6.0"
  }
 },
 "nbformat": 4,
 "nbformat_minor": 2
}
